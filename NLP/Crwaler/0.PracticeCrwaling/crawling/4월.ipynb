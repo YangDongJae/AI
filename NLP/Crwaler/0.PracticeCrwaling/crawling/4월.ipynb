{
 "cells": [
  {
   "cell_type": "code",
   "execution_count": 128,
   "metadata": {},
   "outputs": [],
   "source": [
    "import requests\n",
    "import lxml.html\n",
    "import pandas as pd\n",
    "import sqlite3\n",
    "from pandas.io import sql\n",
    "import os"
   ]
  },
  {
   "cell_type": "code",
   "execution_count": 158,
   "metadata": {},
   "outputs": [],
   "source": [
    "db_delete()"
   ]
  },
  {
   "cell_type": "code",
   "execution_count": 159,
   "metadata": {},
   "outputs": [
    {
     "name": "stdout",
     "output_type": "stream",
     "text": [
      "10 건 저장완료..\n",
      "10 건 저장완료..\n",
      "10 건 저장완료..\n",
      "10 건 저장완료..\n",
      "10 건 저장완료..\n",
      "10 건 저장완료..\n",
      "10 건 저장완료..\n",
      "10 건 저장완료..\n",
      "10 건 저장완료..\n",
      "10 건 저장완료..\n",
      "10 건 저장완료..\n",
      "10 건 저장완료..\n",
      "10 건 저장완료..\n",
      "10 건 저장완료..\n",
      "10 건 저장완료..\n",
      "10 건 저장완료..\n",
      "10 건 저장완료..\n",
      "10 건 저장완료..\n",
      "10 건 저장완료..\n",
      "10 건 저장완료..\n",
      "10 건 저장완료..\n",
      "10 건 저장완료..\n",
      "10 건 저장완료..\n",
      "10 건 저장완료..\n",
      "10 건 저장완료..\n",
      "10 건 저장완료..\n",
      "10 건 저장완료..\n",
      "10 건 저장완료..\n",
      "10 건 저장완료..\n",
      "10 건 저장완료..\n",
      "10 건 저장완료..\n"
     ]
    }
   ],
   "source": [
    "title=[]\n",
    "url=[]\n",
    "dep=[]\n",
    "date=[]\n",
    "views=[]\n",
    "df_april=[]\n",
    "df_10=[]\n",
    "page=2\n",
    "endpage=33\n",
    "max_page = 0\n",
    "while(True):\n",
    "    df_april = []\n",
    "    response=requests.get('https://gnews.gg.go.kr/briefing/brief_gongbo.do?page={}&BS_CODE=s017&period_1=2020-04-01&period_2=2020-04-30&search=6&keyword=&subject_Code=BO01'\\\n",
    "                         .format(page))\n",
    "    root = lxml.html.fromstring(response.content)\n",
    "    \n",
    "    for article in root.xpath('//*[@id=\"chk-table\"]/tbody'):\n",
    "        for a in article.xpath('tr/td[2]/a'):\n",
    "            url.append('https://gnews.gg.go.kr/'+a.get('href'))\n",
    "            title.append(a.text)\n",
    "        for a in article.xpath('tr/td[3]'):\n",
    "            dep.append(a.text)\n",
    "        for a in article.xpath('tr/td[5]'):\n",
    "            date.append(a.text)\n",
    "        for a in article.xpath('tr/td[6]'):\n",
    "            views.append(a.text)\n",
    "    df_article=pd.DataFrame({\n",
    "        'url':url,\n",
    "        'title':title,\n",
    "        'dept':dep,\n",
    "        'reg_date':date,\n",
    "        'number':views\n",
    "    })\n",
    "    \n",
    "    df_april.append(df_article) \n",
    "        \n",
    "    if df_april:   \n",
    "        df_10 = pd.concat(df_april)\n",
    "        db_save(df_10)\n",
    "\n",
    "    page=page+1\n",
    "    if page==endpage:\n",
    "        break\n",
    "        \n",
    "df_10.to_excel('4월 데이터.xlsx',index=False)        \n",
    "        \n",
    "        "
   ]
  },
  {
   "cell_type": "code",
   "execution_count": 160,
   "metadata": {},
   "outputs": [
    {
     "name": "stdout",
     "output_type": "stream",
     "text": [
      "                                                   url  \\\n",
      "0    https://gnews.gg.go.kr/briefing/brief_gongbo_v...   \n",
      "1    https://gnews.gg.go.kr/briefing/brief_gongbo_v...   \n",
      "2    https://gnews.gg.go.kr/briefing/brief_gongbo_v...   \n",
      "3    https://gnews.gg.go.kr/briefing/brief_gongbo_v...   \n",
      "4    https://gnews.gg.go.kr/briefing/brief_gongbo_v...   \n",
      "..                                                 ...   \n",
      "305  https://gnews.gg.go.kr/briefing/brief_gongbo_v...   \n",
      "306  https://gnews.gg.go.kr/briefing/brief_gongbo_v...   \n",
      "307  https://gnews.gg.go.kr/briefing/brief_gongbo_v...   \n",
      "308  https://gnews.gg.go.kr/briefing/brief_gongbo_v...   \n",
      "309  https://gnews.gg.go.kr/briefing/brief_gongbo_v...   \n",
      "\n",
      "                                                 title       dept    reg_date  \\\n",
      "0                  아프리카돼지열병(ASF) 방역대책추진현황 200531 24시기준    동물방역위생과  2020.06.01   \n",
      "1         경기북부 중심 하천인 신천 수질오염 심각… 친수공간 확보하고 하천생태계 복원해야      경기연구원  2020.06.01   \n",
      "2    ‘대학생들이 구현해낸 자율주행 배달의 모습은?’  경기도 자율주행 배달 모빌리티 공...      미래산업과  2020.06.01   \n",
      "3                         도 농기원, ‘맛있는 우리품종 경기미’ 체험단 모집      농촌자원과  2020.06.01   \n",
      "4          “고맙습니다, 당신 덕분입니다” 도, ‘경기희망글판’ 두 번째 게시 작품 선정   홍보콘텐츠담당관  2020.06.01   \n",
      "..                                                 ...        ...         ...   \n",
      "305                    경기도청소년수련원, ‘슬기로운 텃밭생활’ 참가 가족 모집  경기도청소년수련원  2020.05.01   \n",
      "306                      도 일자리재단, ‘일하는 여성 고충상담 핫라인’ 개설   경기도일자리재단  2020.05.01   \n",
      "307               경기도 ‘현덕지구 사업시행자 지정취소’ 2심 승소. 개발사업 탄력        개발과  2020.05.01   \n",
      "308            소독·환경개선·구서구충 한꺼번에‥도, ‘축산환경 개선의 날’ 통합 운영      축산정책과  2020.05.01   \n",
      "309            도, 남다른 잠재력으로 지역경제 살릴 ‘유망중소기업’ 200개사 찾는다    특화기업지원과  2020.05.01   \n",
      "\n",
      "    view  \n",
      "0     75  \n",
      "1    339  \n",
      "2    339  \n",
      "3    320  \n",
      "4    307  \n",
      "..   ...  \n",
      "305  600  \n",
      "306  574  \n",
      "307  454  \n",
      "308  127  \n",
      "309  254  \n",
      "\n",
      "[310 rows x 5 columns]\n"
     ]
    }
   ],
   "source": [
    "print(db_select())"
   ]
  },
  {
   "cell_type": "code",
   "execution_count": null,
   "metadata": {},
   "outputs": [],
   "source": []
  }
 ],
 "metadata": {
  "kernelspec": {
   "display_name": "Python 3",
   "language": "python",
   "name": "python3"
  },
  "language_info": {
   "codemirror_mode": {
    "name": "ipython",
    "version": 3
   },
   "file_extension": ".py",
   "mimetype": "text/x-python",
   "name": "python",
   "nbconvert_exporter": "python",
   "pygments_lexer": "ipython3",
   "version": "3.7.6"
  }
 },
 "nbformat": 4,
 "nbformat_minor": 4
}
