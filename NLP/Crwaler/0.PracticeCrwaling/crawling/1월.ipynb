{
 "cells": [
  {
   "cell_type": "code",
   "execution_count": 25,
   "metadata": {},
   "outputs": [
    {
     "name": "stdout",
     "output_type": "stream",
     "text": [
      "10  저장완료\n",
      "20  저장완료\n",
      "30  저장완료\n",
      "40  저장완료\n",
      "50  저장완료\n",
      "60  저장완료\n",
      "70  저장완료\n",
      "80  저장완료\n",
      "90  저장완료\n",
      "100  저장완료\n",
      "110  저장완료\n",
      "120  저장완료\n",
      "130  저장완료\n",
      "140  저장완료\n",
      "150  저장완료\n",
      "160  저장완료\n",
      "170  저장완료\n",
      "180  저장완료\n",
      "190  저장완료\n",
      "200  저장완료\n",
      "210  저장완료\n",
      "220  저장완료\n",
      "230  저장완료\n",
      "240  저장완료\n"
     ]
    }
   ],
   "source": [
    "import requests\n",
    "import lxml.html\n",
    "import pandas as pd\n",
    "import sqlite3\n",
    "import os\n",
    "\n",
    "df_list=[]\n",
    "for i in list(range(174,198)):\n",
    "    baseurl='https://gnews.gg.go.kr/briefing/brief_gongbo.do?page={}&BS_CODE=s017&period_1=&period_2=&search=0&keyword=&subject_Code=BO01'\\\n",
    "    .format(str(i))\n",
    "    response = requests.get(baseurl)\n",
    "    root = lxml.html.fromstring(response.content)\n",
    "    for a in root.xpath('//*[@id=\"chk-table\"]/tbody/tr'):\n",
    "        title = a.xpath('td[2]/a')[0]\n",
    "        url=title.get('href')\n",
    "        dept = a.xpath('td[3]')[0]\n",
    "        reg_date = a.xpath('td[5]')[0]\n",
    "        view = a.xpath('td[6]')[0]\n",
    "        df = pd.DataFrame({\n",
    "            'url':['https://gnews.gg.go.kr'+url],\n",
    "            'title':[title.text],\n",
    "            'dept':[dept.text],\n",
    "            'reg_date':[reg_date.text.strip()],\n",
    "            'view':[view.text]\n",
    "        })\n",
    "        df_list.append(df)\n",
    "    if df_list:   \n",
    "        df_1 = pd.concat(df_list)\n",
    "        db_save(df_1)\n"
   ]
  },
  {
   "cell_type": "code",
   "execution_count": 14,
   "metadata": {},
   "outputs": [],
   "source": [
    "def db_save(df):    \n",
    "    import sqlite3\n",
    "    from pandas.io import sql\n",
    "    import os\n",
    "    with sqlite3.connect(os.path.join('.','sqliteDB')) as con: # sqlite DB 파일이 존재하지 않는 경우 파일생성\n",
    "        try:\n",
    "            df.to_sql(name = 'NEWS_LIST'.upper(), con = con, index = False, if_exists='replace') \n",
    "            #if_exists : {'fail', 'replace', 'append'} default : fail\n",
    "        except Exception as e:\n",
    "            print(str(e))\n",
    "        print(len(df),' 저장완료')"
   ]
  },
  {
   "cell_type": "code",
   "execution_count": 17,
   "metadata": {},
   "outputs": [],
   "source": [
    "def db_select():\n",
    "    with sqlite3.connect(os.path.join('.','sqliteDB')) as con: # sqlite DB 파일이 존재하지 않는 경우 파일생성\n",
    "        try:\n",
    "            query = 'SELECT * FROM NEWS_LIST'\n",
    "            NEWS_LIST = pd.read_sql(query, con = con)\n",
    "        except Exception as e:\n",
    "            print(str(e)) \n",
    "        return NEWS_LIST   "
   ]
  },
  {
   "cell_type": "code",
   "execution_count": 27,
   "metadata": {},
   "outputs": [],
   "source": [
    "df_1.to_excel('df_01.xlsx')"
   ]
  }
 ],
 "metadata": {
  "kernelspec": {
   "display_name": "Python 3",
   "language": "python",
   "name": "python3"
  },
  "language_info": {
   "codemirror_mode": {
    "name": "ipython",
    "version": 3
   },
   "file_extension": ".py",
   "mimetype": "text/x-python",
   "name": "python",
   "nbconvert_exporter": "python",
   "pygments_lexer": "ipython3",
   "version": "3.7.6"
  }
 },
 "nbformat": 4,
 "nbformat_minor": 4
}
