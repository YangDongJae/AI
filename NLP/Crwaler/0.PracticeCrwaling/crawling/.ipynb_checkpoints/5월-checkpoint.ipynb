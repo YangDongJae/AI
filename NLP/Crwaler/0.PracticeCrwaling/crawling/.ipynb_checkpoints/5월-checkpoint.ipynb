{
 "cells": [
  {
   "cell_type": "code",
   "execution_count": 128,
   "metadata": {},
   "outputs": [],
   "source": [
    "import requests\n",
    "import lxml.html\n",
    "import pandas as pd\n",
    "import sqlite3\n",
    "from pandas.io import sql\n",
    "import os"
   ]
  },
  {
   "cell_type": "code",
   "execution_count": 129,
   "metadata": {
    "scrolled": true
   },
   "outputs": [],
   "source": [
    "# response = requests.get('https://gnews.gg.go.kr/briefing/brief_gongbo.do?page=1&BS_CODE=s017&period_1=2020-05-01&period_2=2020-05-31&search=1&keyword=&subject_Code=BO01')\n",
    "# root = lxml.html.fromstring(response.content)\n",
    "# for a in root.cssselect('a'):\n",
    "#     url = a.get('href')\n",
    "#     print(url,a.text)"
   ]
  },
  {
   "cell_type": "code",
   "execution_count": 130,
   "metadata": {},
   "outputs": [],
   "source": [
    "# response = requests.get('https://gnews.gg.go.kr/briefing/brief_gongbo.do?page=45&BS_CODE=s017&period_1=&period_2=&search=0&keyword=&subject_Code=BO01')\n",
    "# root = lxml.html.fromstring(response.content)\n",
    "# for li in root.xpath('//*[@id=\"chk-table\"]/tbody/tr/td[2]'):\n",
    "#     for a in li.xpath('a'): #리스트로 가져오려는 속성이 있음\n",
    "#         url = a.get('href')\n",
    "#         print(a.text)"
   ]
  },
  {
   "cell_type": "code",
   "execution_count": 131,
   "metadata": {},
   "outputs": [],
   "source": [
    "def db_save(GG_LIST):\n",
    "    with sqlite3.connect(os.path.join('.','sqliteDB')) as con: # sqlite DB 파일이 존재하지 않는 경우 파일생성\n",
    "        try:\n",
    "            GG_LIST.to_sql(name = 'GG_LIST', con = con, index = False, if_exists='append') \n",
    "            #if_exists : {'fail', 'replace', 'append'} default : fail\n",
    "        except Exception as e:\n",
    "            print(str(e))\n",
    "        print(len(GG_LIST), '건 저장완료..')"
   ]
  },
  {
   "cell_type": "code",
   "execution_count": 132,
   "metadata": {},
   "outputs": [],
   "source": [
    "def db_select():\n",
    "    with sqlite3.connect(os.path.join('.','sqliteDB')) as con: # sqlite DB 파일이 존재하지 않는 경우 파일생성\n",
    "        try:\n",
    "            query = 'SELECT * FROM GG_LIST'\n",
    "            GG_LIST = pd.read_sql(query, con = con)\n",
    "        except Exception as e:\n",
    "            print(str(e)) \n",
    "        return GG_LIST   "
   ]
  },
  {
   "cell_type": "code",
   "execution_count": 138,
   "metadata": {},
   "outputs": [],
   "source": [
    "def db_delete():\n",
    "    with sqlite3.connect(os.path.join('.','sqliteDB')) as con: # sqlite DB 파일이 존재하지 않는 경우 파일생성\n",
    "        try:\n",
    "            cur = con.cursor()\n",
    "            sql = 'DELETE FROM GG_LIST'\n",
    "            cur.execute(sql)\n",
    "        except Exception as e:\n",
    "            print(str(e)) "
   ]
  },
  {
   "cell_type": "code",
   "execution_count": 158,
   "metadata": {},
   "outputs": [],
   "source": [
    "db_delete()"
   ]
  },
  {
   "cell_type": "code",
   "execution_count": 159,
   "metadata": {},
   "outputs": [
    {
     "name": "stdout",
     "output_type": "stream",
     "text": [
      "10 건 저장완료..\n",
      "10 건 저장완료..\n",
      "10 건 저장완료..\n",
      "10 건 저장완료..\n",
      "10 건 저장완료..\n",
      "10 건 저장완료..\n",
      "10 건 저장완료..\n",
      "10 건 저장완료..\n",
      "10 건 저장완료..\n",
      "10 건 저장완료..\n",
      "10 건 저장완료..\n",
      "10 건 저장완료..\n",
      "10 건 저장완료..\n",
      "10 건 저장완료..\n",
      "10 건 저장완료..\n",
      "10 건 저장완료..\n",
      "10 건 저장완료..\n",
      "10 건 저장완료..\n",
      "10 건 저장완료..\n",
      "10 건 저장완료..\n",
      "10 건 저장완료..\n",
      "10 건 저장완료..\n",
      "10 건 저장완료..\n",
      "10 건 저장완료..\n",
      "10 건 저장완료..\n",
      "10 건 저장완료..\n",
      "10 건 저장완료..\n",
      "10 건 저장완료..\n",
      "10 건 저장완료..\n",
      "10 건 저장완료..\n",
      "10 건 저장완료..\n"
     ]
    }
   ],
   "source": [
    "page = 45\n",
    "max_page = 75\n",
    "#dt = '20200630'\n",
    "while(True):\n",
    "    df_list = []\n",
    "    response = requests.get('https://gnews.gg.go.kr/briefing/brief_gongbo.do?page={}&BS_CODE=s017&period_1=&period_2=&search=0&keyword=&subject_Code=BO01'\\\n",
    "                            .format(page))\n",
    "    root = lxml.html.fromstring(response.content)\n",
    "    for tr in root.xpath('//*[@id=\"chk-table\"]/tbody/tr'):\n",
    "            a = tr.xpath('td[2]/a')[0]\n",
    "            url = a.get('href')\n",
    "            dept = tr.xpath('td[3]')[0]\n",
    "            reg_date = tr.xpath('td[5]')[0]\n",
    "            view = tr.xpath('td[6]')[0]\n",
    "            \n",
    "        #print(a.text)\n",
    "        \n",
    "            df = pd.DataFrame({\n",
    "                 'url' : ['https://gnews.gg.go.kr'+url],\n",
    "                 'title':[a.text],\n",
    "                 'dept':[dept.text],\n",
    "                 'reg_date':[reg_date.text.strip()],\n",
    "                 'view':[view.text]\n",
    "                              })\n",
    "            df_list.append(df)\n",
    "\n",
    "        \n",
    "    df_10 = pd.concat(df_list)\n",
    "    db_save(df_10)\n",
    "\n",
    "#     if df_list:\n",
    "#         df_10 = pd.concat(df_list) #인덱스 리셋\n",
    "#         db_save(df_10)\n",
    "\n",
    "    if  page >= max_page:\n",
    "        break;\n",
    "    else:\n",
    "        page = page + 1\n"
   ]
  },
  {
   "cell_type": "code",
   "execution_count": 160,
   "metadata": {},
   "outputs": [
    {
     "name": "stdout",
     "output_type": "stream",
     "text": [
      "                                                   url  \\\n",
      "0    https://gnews.gg.go.kr/briefing/brief_gongbo_v...   \n",
      "1    https://gnews.gg.go.kr/briefing/brief_gongbo_v...   \n",
      "2    https://gnews.gg.go.kr/briefing/brief_gongbo_v...   \n",
      "3    https://gnews.gg.go.kr/briefing/brief_gongbo_v...   \n",
      "4    https://gnews.gg.go.kr/briefing/brief_gongbo_v...   \n",
      "..                                                 ...   \n",
      "305  https://gnews.gg.go.kr/briefing/brief_gongbo_v...   \n",
      "306  https://gnews.gg.go.kr/briefing/brief_gongbo_v...   \n",
      "307  https://gnews.gg.go.kr/briefing/brief_gongbo_v...   \n",
      "308  https://gnews.gg.go.kr/briefing/brief_gongbo_v...   \n",
      "309  https://gnews.gg.go.kr/briefing/brief_gongbo_v...   \n",
      "\n",
      "                                                 title       dept    reg_date  \\\n",
      "0                  아프리카돼지열병(ASF) 방역대책추진현황 200531 24시기준    동물방역위생과  2020.06.01   \n",
      "1         경기북부 중심 하천인 신천 수질오염 심각… 친수공간 확보하고 하천생태계 복원해야      경기연구원  2020.06.01   \n",
      "2    ‘대학생들이 구현해낸 자율주행 배달의 모습은?’  경기도 자율주행 배달 모빌리티 공...      미래산업과  2020.06.01   \n",
      "3                         도 농기원, ‘맛있는 우리품종 경기미’ 체험단 모집      농촌자원과  2020.06.01   \n",
      "4          “고맙습니다, 당신 덕분입니다” 도, ‘경기희망글판’ 두 번째 게시 작품 선정   홍보콘텐츠담당관  2020.06.01   \n",
      "..                                                 ...        ...         ...   \n",
      "305                    경기도청소년수련원, ‘슬기로운 텃밭생활’ 참가 가족 모집  경기도청소년수련원  2020.05.01   \n",
      "306                      도 일자리재단, ‘일하는 여성 고충상담 핫라인’ 개설   경기도일자리재단  2020.05.01   \n",
      "307               경기도 ‘현덕지구 사업시행자 지정취소’ 2심 승소. 개발사업 탄력        개발과  2020.05.01   \n",
      "308            소독·환경개선·구서구충 한꺼번에‥도, ‘축산환경 개선의 날’ 통합 운영      축산정책과  2020.05.01   \n",
      "309            도, 남다른 잠재력으로 지역경제 살릴 ‘유망중소기업’ 200개사 찾는다    특화기업지원과  2020.05.01   \n",
      "\n",
      "    view  \n",
      "0     75  \n",
      "1    339  \n",
      "2    339  \n",
      "3    320  \n",
      "4    307  \n",
      "..   ...  \n",
      "305  600  \n",
      "306  574  \n",
      "307  454  \n",
      "308  127  \n",
      "309  254  \n",
      "\n",
      "[310 rows x 5 columns]\n"
     ]
    }
   ],
   "source": [
    "print(db_select())"
   ]
  },
  {
   "cell_type": "code",
   "execution_count": 161,
   "metadata": {},
   "outputs": [],
   "source": [
    "GG_LIST = db_select()"
   ]
  },
  {
   "cell_type": "code",
   "execution_count": 164,
   "metadata": {},
   "outputs": [],
   "source": [
    "def save_excel(GG_LIST):\n",
    "    excel = pd.ExcelWriter('경기도보도자료5월_1.xlsx')\n",
    "    GG_LIST.to_excel(excel,'.',index=False)\n",
    "    excel.save()"
   ]
  },
  {
   "cell_type": "code",
   "execution_count": 165,
   "metadata": {},
   "outputs": [],
   "source": [
    "save_excel(GG_LIST)"
   ]
  },
  {
   "cell_type": "code",
   "execution_count": null,
   "metadata": {},
   "outputs": [],
   "source": []
  }
 ],
 "metadata": {
  "kernelspec": {
   "display_name": "Python 3",
   "language": "python",
   "name": "python3"
  },
  "language_info": {
   "codemirror_mode": {
    "name": "ipython",
    "version": 3
   },
   "file_extension": ".py",
   "mimetype": "text/x-python",
   "name": "python",
   "nbconvert_exporter": "python",
   "pygments_lexer": "ipython3",
   "version": "3.7.6"
  }
 },
 "nbformat": 4,
 "nbformat_minor": 4
}
