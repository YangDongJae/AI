{
 "cells": [
  {
   "cell_type": "code",
   "execution_count": null,
   "metadata": {},
   "outputs": [],
   "source": [
    "# 6월 크롤링코드\n",
    "page = 10  # 시작 페이지\n",
    "end_page = 45 \n",
    "\n",
    "while(True):\n",
    "    df_list = []\n",
    "    response = requests.get('https://gnews.gg.go.kr/briefing/brief_gongbo.do?page={}&BS_CODE=s017&period_1=&period_2=&search=0&keyword=&subject_Code=BO01'\\\n",
    "                            .format(page))\n",
    "    root = lxml.html.fromstring(response.content)\n",
    "    for tr in root.xpath('//*[@id=\"chk-table\"]/tbody/tr'):\n",
    "            a = tr.xpath('td[2]/a')[0] \n",
    "            url = ('https://gnews.gg.go.kr/' + a.get('href'))\n",
    "            dep = tr.xpath('td[3]')[0]\n",
    "            date = tr.xpath('td[5]')[0]\n",
    "            view =  tr.xpath('td[6]')[0]\n",
    "            df_list.append(\n",
    "                pd.DataFrame({\n",
    " \n",
    "                 'url' : [url],\n",
    "                 'title' : [a.text],\n",
    "                 'dept'  :  [dep.text],\n",
    "                 'reg_date' : [date.text.strip()],\n",
    "                 'view' : [view.text],    \n",
    "            })\n",
    "            )\n",
    "    \n",
    "    df_10 = pd.concat(df_list)\n",
    "    \n",
    "    db_save(df_10)\n",
    "    \n",
    "\n",
    "    if  page >= end_page:\n",
    "        break;\n",
    "    else:\n",
    "        page = page + 1\n",
    "df_10.to_excel('6월 데이터.xlsx', index = False)    "
   ]
  }
 ],
 "metadata": {
  "kernelspec": {
   "display_name": "Python 3",
   "language": "python",
   "name": "python3"
  },
  "language_info": {
   "codemirror_mode": {
    "name": "ipython",
    "version": 3
   },
   "file_extension": ".py",
   "mimetype": "text/x-python",
   "name": "python",
   "nbconvert_exporter": "python",
   "pygments_lexer": "ipython3",
   "version": "3.7.6"
  }
 },
 "nbformat": 4,
 "nbformat_minor": 4
}
