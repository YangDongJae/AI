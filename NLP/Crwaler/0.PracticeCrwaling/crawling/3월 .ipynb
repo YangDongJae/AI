{
 "cells": [
  {
   "cell_type": "code",
   "execution_count": 462,
   "metadata": {},
   "outputs": [],
   "source": [
    "import requests\n",
    "import lxml.html\n",
    "import pandas as pd\n",
    "import sqlite3\n",
    "from pandas.io import sql\n",
    "import os\n",
    "import re\n",
    "import string"
   ]
  },
  {
   "cell_type": "code",
   "execution_count": 463,
   "metadata": {},
   "outputs": [],
   "source": [
    "def crawling(start_page,end_page):\n",
    "    url = []\n",
    "    title = []\n",
    "    dept = []\n",
    "    reg_date = []\n",
    "    number = []\n",
    "    df_list=[]\n",
    "    for i in range(start_page,end_page):    \n",
    "        ad = 'https://gnews.gg.go.kr/briefing/brief_gongbo.do?page={}&BS_CODE=s017&period_1=&period_2=&search=0&keyword=&subject_Code=BO01'\\\n",
    "        .format(str(i))\n",
    "        response = requests.get(ad)\n",
    "        root = lxml.html.fromstring(response.content)\n",
    "        \n",
    "        for t in root.xpath('//*[@id=\"chk-table\"]/tbody/tr'):\n",
    "            a = t.xpath('td[2]/a')[0] \n",
    "            url = 'https://gnews.gg.go.kr'+a.get('href')\n",
    "            dep = t.xpath('td[3]')[0]\n",
    "            date = t.xpath('td[5]')[0]\n",
    "            view =  t.xpath('td[6]')[0]\n",
    "            df_list.append(\n",
    "                pd.DataFrame({\n",
    " \n",
    "                  'url' : [url],\n",
    "                 'title' : [a.text],\n",
    "                 'dept'  :  [dep.text],\n",
    "                 'reg_date' : [date.text.strip()],\n",
    "                 'view' : [view.text],    \n",
    "            })\n",
    "            )\n",
    "        if df_list:   \n",
    "            df_sv = pd.concat(df_list)\n",
    "            #db_save(df_sv)\n",
    "    \n",
    "    df_10 = pd.concat(df_list)\n",
    "    return df_10.reset_index(drop=True)"
   ]
  },
  {
   "cell_type": "code",
   "execution_count": 464,
   "metadata": {},
   "outputs": [],
   "source": [
    "x = crawling(108,139)"
   ]
  },
  {
   "cell_type": "code",
   "execution_count": 465,
   "metadata": {},
   "outputs": [
    {
     "data": {
      "text/plain": [
       "(310, 5)"
      ]
     },
     "execution_count": 465,
     "metadata": {},
     "output_type": "execute_result"
    }
   ],
   "source": [
    "x.shape"
   ]
  },
  {
   "cell_type": "code",
   "execution_count": 466,
   "metadata": {},
   "outputs": [],
   "source": [
    "x.to_excel('3월 데이터.xlsx',index=False)"
   ]
  }
 ],
 "metadata": {
  "kernelspec": {
   "display_name": "Python 3",
   "language": "python",
   "name": "python3"
  },
  "language_info": {
   "codemirror_mode": {
    "name": "ipython",
    "version": 3
   },
   "file_extension": ".py",
   "mimetype": "text/x-python",
   "name": "python",
   "nbconvert_exporter": "python",
   "pygments_lexer": "ipython3",
   "version": "3.7.6"
  }
 },
 "nbformat": 4,
 "nbformat_minor": 4
}
