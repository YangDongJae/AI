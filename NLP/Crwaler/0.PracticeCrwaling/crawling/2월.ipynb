{
 "cells": [
  {
   "cell_type": "code",
   "execution_count": null,
   "metadata": {},
   "outputs": [],
   "source": [
    "# 2월 크롤링 코드\n",
    "def crawling(start_page,end_page):\n",
    "    url = [] # url 받는 리스트\n",
    "    title = [] # title 받는 리스트\n",
    "    dept = []  # deoartment 받는 리스트\n",
    "    reg_date = [] # register date 받는 리스트\n",
    "    view = [] # 조회수 받는 리스트\n",
    "    df_list=[] # dataframe 받는 리스트\n",
    "    sleep_time = 0\n",
    "    for i in range(start_page,end_page):    \n",
    "        ad = 'https://gnews.gg.go.kr/briefing/brief_gongbo.do?page={}&BS_CODE=s017&period_1=&period_2=&search=0&keyword=&subject_Code=BO01'\\\n",
    "        .format(str(i))\n",
    "        response = requests.get(ad)\n",
    "        root = lxml.html.fromstring(response.content)\n",
    "        if (sleep_time % 10 == 0) & (sleep_time !=0): # ip 막히지 않게 잠깐 쉰다. 10페이지당 한 번\n",
    "            time.sleep(5)\n",
    "            print('sleep..')\n",
    "        \n",
    "        for t in root.xpath('//*[@id=\"chk-table\"]/tbody/tr'):\n",
    "            a = t.xpath('td[2]/a')[0] \n",
    "            url = 'https://gnews.gg.go.kr'+a.get('href') # url\n",
    "            dep = t.xpath('td[3]')[0] # 부서\n",
    "            date = t.xpath('td[5]')[0] # 날짜\n",
    "            view =  t.xpath('td[6]')[0] # 조회수\n",
    "            \n",
    "            df_list.append(\n",
    "                pd.DataFrame({\n",
    " \n",
    "                  'url' : [url],\n",
    "                 'title' : [a.text], # 제목\n",
    "                 'dept'  :  [dep.text],\n",
    "                 'reg_date' : [date.text.strip()],\n",
    "                 'view' : [view.text],    \n",
    "            })\n",
    "            )\n",
    "#         if df_list:   \n",
    "#             df_sv = pd.concat(df_list)\n",
    "#             db_save(df_sv) # db 저장\n",
    "        \n",
    "        \n",
    "        sleep_time+=1\n",
    "    \n",
    "    df_10 = pd.concat(df_list)\n",
    "    return df_10.reset_index(drop=True)\n",
    "feb = crawling(140,174)# 140~173 -> 2월 데이터\n",
    "data.to_excel('2월 데이터.xlsx',index=False)"
   ]
  }
 ],
 "metadata": {
  "kernelspec": {
   "display_name": "Python 3",
   "language": "python",
   "name": "python3"
  },
  "language_info": {
   "codemirror_mode": {
    "name": "ipython",
    "version": 3
   },
   "file_extension": ".py",
   "mimetype": "text/x-python",
   "name": "python",
   "nbconvert_exporter": "python",
   "pygments_lexer": "ipython3",
   "version": "3.7.6"
  }
 },
 "nbformat": 4,
 "nbformat_minor": 4
}
