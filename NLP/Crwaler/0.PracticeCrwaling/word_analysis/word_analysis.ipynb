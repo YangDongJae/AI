{
 "cells": [
  {
   "cell_type": "code",
   "execution_count": null,
   "metadata": {},
   "outputs": [],
   "source": [
    "# !pip install JPype1\n",
    "# !pip install konlpy\n",
    "\n",
    "from konlpy.tag import Okt, Kkma, Komoran, Hannanum\n",
    "tagger = Okt()\n",
    "\n",
    "#파일 읽어오기\n",
    "import pandas as pd \n",
    "gg = pd.read_excel('./6월.xlsx')\n",
    "# DataFrame -> List\n",
    "title = list(gg['title'])\n",
    "# List -> String\n",
    "title_st = ' '.join(title)\n",
    "# 특수문자 제거\n",
    "import re\n",
    "body = []\n",
    "punc = '[!\"“”‘’#$%&\\'()*+,-/:;<=>?[\\\\]^_`{|}…~·‥]'\n",
    "body.append(re.sub(punc, '' , title_st))\n",
    "full_body = ' '.join(body)\n",
    "full_body\n",
    "\n",
    "#형태소 분석\n",
    "nouns = tagger.nouns(full_body)\n",
    "from collections import Counter\n",
    "count = Counter(nouns)\n",
    "nouns_list = count.most_common(100)\n",
    "\n",
    "#저장\n",
    "import pandas as pd \n",
    "data = pd.DataFrame(nouns_list)\n",
    "data.head()\n",
    "data.to_excel('빈도.xlsx') "
   ]
  }
 ],
 "metadata": {
  "kernelspec": {
   "display_name": "Python 3",
   "language": "python",
   "name": "python3"
  },
  "language_info": {
   "codemirror_mode": {
    "name": "ipython",
    "version": 3
   },
   "file_extension": ".py",
   "mimetype": "text/x-python",
   "name": "python",
   "nbconvert_exporter": "python",
   "pygments_lexer": "ipython3",
   "version": "3.7.6"
  }
 },
 "nbformat": 4,
 "nbformat_minor": 4
}
