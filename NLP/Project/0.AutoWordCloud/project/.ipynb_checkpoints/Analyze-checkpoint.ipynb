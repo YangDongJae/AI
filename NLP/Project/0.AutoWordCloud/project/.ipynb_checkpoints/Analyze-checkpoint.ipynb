{
 "cells": [
  {
   "cell_type": "markdown",
   "metadata": {},
   "source": [
    "## Crawling Software를 통해 Parsing한 데이터 LOAD"
   ]
  },
  {
   "cell_type": "code",
   "execution_count": 57,
   "metadata": {},
   "outputs": [],
   "source": [
    "import pandas as pd\n",
    "import re\n",
    "import numpy as np"
   ]
  },
  {
   "cell_type": "code",
   "execution_count": 58,
   "metadata": {},
   "outputs": [],
   "source": [
    "df_today = pd.read_csv(\"D:/바탕 화면/인턴/python/crawling_software/crwaler/Category_crwaling/news_crawling_data.csv\")"
   ]
  },
  {
   "cell_type": "code",
   "execution_count": 59,
   "metadata": {},
   "outputs": [],
   "source": [
    "df_lastday = pd.read_csv(\"D:/바탕 화면/인턴/python/crawling_software/crwaler/Category_crwaling/news_crawling_data_1.csv\")"
   ]
  },
  {
   "cell_type": "markdown",
   "metadata": {},
   "source": [
    "## Data 병합 및 정리"
   ]
  },
  {
   "cell_type": "code",
   "execution_count": 60,
   "metadata": {},
   "outputs": [],
   "source": [
    "df = [df_today, df_lastday]"
   ]
  },
  {
   "cell_type": "code",
   "execution_count": 61,
   "metadata": {},
   "outputs": [],
   "source": [
    "df = pd.concat(df)"
   ]
  },
  {
   "cell_type": "code",
   "execution_count": 62,
   "metadata": {},
   "outputs": [],
   "source": [
    "df = df.reset_index()"
   ]
  },
  {
   "cell_type": "code",
   "execution_count": 63,
   "metadata": {},
   "outputs": [],
   "source": [
    "df = df.iloc[:,2:]"
   ]
  },
  {
   "cell_type": "markdown",
   "metadata": {},
   "source": [
    "## 문자열 데이터 Preprocessing (한글 추출)"
   ]
  },
  {
   "cell_type": "markdown",
   "metadata": {},
   "source": [
    "#### 특수문자 제거 (punc [ ] 에 들어가 있는 특수문자만)"
   ]
  },
  {
   "cell_type": "code",
   "execution_count": 64,
   "metadata": {},
   "outputs": [],
   "source": [
    "def sub_special_character(string):\n",
    "    punc = '[!\"#$%&@\\'()*+,-./:;<=>?[\\]^_`{|}~“▶”·|a-z]'\n",
    "    return re.sub(punc,'',string)"
   ]
  },
  {
   "cell_type": "markdown",
   "metadata": {},
   "source": [
    "#### Escape Sequence 제거"
   ]
  },
  {
   "cell_type": "code",
   "execution_count": 65,
   "metadata": {},
   "outputs": [],
   "source": [
    "def drop_space(string):\n",
    "    return re.sub(r\"\\s+\",\" \",string)"
   ]
  },
  {
   "cell_type": "markdown",
   "metadata": {},
   "source": [
    "#### 한글 추출"
   ]
  },
  {
   "cell_type": "code",
   "execution_count": 66,
   "metadata": {},
   "outputs": [],
   "source": [
    "def extract_hangul(string):\n",
    "    korean = re.compile('[^ ㄱ-ㅣ가-힣]+')\n",
    "    return korean.sub('',string)"
   ]
  },
  {
   "cell_type": "markdown",
   "metadata": {},
   "source": [
    "### Data Tokenization"
   ]
  },
  {
   "cell_type": "markdown",
   "metadata": {},
   "source": [
    "####  KSS 문장분류TEST"
   ]
  },
  {
   "cell_type": "code",
   "execution_count": 90,
   "metadata": {},
   "outputs": [],
   "source": [
    "df_text = df"
   ]
  },
  {
   "cell_type": "code",
   "execution_count": 91,
   "metadata": {
    "scrolled": true
   },
   "outputs": [
    {
     "data": {
      "text/plain": [
       "'\\r\\n\\r\\n\\r\\n\\r\\n\\r\\n文 지지율 2%p 올라 47.6%…긍·부정 격차 최소호남·진보는 \\'긍정\\', TK·보수는 \\'부정\\' 올라 대비리얼미터 \"여당의 무덤 국감서 여당이 판정승\"[서울=뉴시스] [서울=뉴시스] 안채원 기자 = 문재인 대통령의 지지율과 더불어민주당·국민의힘 지지도가 모두 상승했다는 여론조사 결과가 29일 나왔다. 지난 7일부터 시작돼 마무리 국면에 들어선 21대 국회의 첫 국정 감사에 대한 평가가 진영별로 양극단으로 이뤄졌다는 분석이다.여론조사 전문기관 리얼미터가 TBS 의뢰로 실시한 10월3주차(26일~28일) 주중집계 결과에 따르면 문 대통령의 국정 운영에 대한 긍정 평가는 전주보다 2.0%포인트 오른 47.6%(매우 잘함 24.2%, 잘하는 편 23.4%)를 기록했다.\\'국정수행을 잘못하고 있다\\'는 부정평가는 1.3%포인트 내린 48.3%(매우 잘못함 33.5%, 잘못하는 편 14.8%)로 집계됐다. \\'모름·무응답\\' 은 0.6%포인트 감소한 4.2%다.긍·부정 평가 차이는 0.7%포인트로 9월 1주차 이후 최소 격차를 보였다.문 대통령에 대한 긍정평가는 부산·울산·경남(5.9%p↑), 광주·전라(4.4%p↑), 열린민주당 지지층(9.3%p↑), 정의당 지지층(9.2%p↑), 진보층(3.1%p↑)에서 올랐다.대구·경북(7.2%p↑)과 보수층(2.3%p↑)에서는 부정평가가 상승했다.지역과 정치성향별 지지율 변화를 고려하면 이번 국감의 평가가 양극단으로 나뉘었음을 보여주는 지표라는 게 리얼미터의 설명이다.실제 문 대통령의 국정운영에 대한 진보층의 긍정평가는 75.3%이고, 보수층의 부정평가는 77.8%로 조사됐다.민주당과 국민의힘 모두 지지도가 상승한 가운데, 각 정당 텃밭 지역을 중심으로 결집하는 모습을 보였다.[서울=뉴시스] 29일 여론조사기관 리얼미터가 TBS 의뢰로 실시한 10월 4주차 주중 잠정집계에 따르면, 민주당 지지도는 지난주 대비 1.6%포인트 오른 36.7%, 국민의힘 지지도는 0.3%포인트 오른 27.6%로 나타났다. (그래픽=전진우 기자)  618tue@newsis.com민주당 지지도는 전주 대비 1.6% 포인트 오른 36.7%를 기록했다. 광주·전라(6.6%p↑)와 부산·울산·경남(6.2%p↑)에서 상승했다.국민의힘 지지도는 전주 보다 0.3%포인트 소폭 상승한 27.6%로 집계됐고, 대구·경북(5.0%p↑)에서 상승세가 두드러졌다.리얼미터 관계자는 \"청와대와 여당, 제1야당의 지지율이 모두 상승했지만 국정감사가 \\'여당의 무덤, 야당의 시간\\' 이라는 점을 고려한다면 여당의 \\'판정승\\'이라 볼 수 있다\"고 평가했다.열린민주당은 0.5%포인트 내린 6.6%, 국민의당은 0.5%포인트 하락한 6.3%로 조사됐다.정의당은 0.4%하락한 오른 5.0%, 기본소득당은 전주와 같은 0.8%, 시대전환은 0.1%포인트 하락한 0.7%로 집계됐다.기타정당 지지층은 0.4%포인트 오른 2.1%, 무당층은 0.8%포인트 내린 14.2%였다.이번 조사는 무선 전화면접(10%) 및 무선(70%)·유선(20%) 자동응답 혼용 방식, 무선(80%)·유선(20%) 병행 무작위생성 표집틀을 통한 임의 전화걸기 방법으로 실시됐다. 18세 이상 유권자 3만4928명에게 통화를 시도한 결과 최종 1516명이 응답을 완료해 4.3%의 응답률을 보였다. 표본오차는 95% 신뢰수준에서 ±2.5%포인트다.☞공감언론 뉴시스 newkid@newsis.com▶ 네이버에서 뉴시스 구독하기▶ K-Artprice, 유명 미술작품 가격 공개▶ 뉴시스 빅데이터 MSI 주가시세표 바로가기<ⓒ 공감언론 뉴시스통신사. 무단전재-재배포 금지>\\r\\n\\t\\r\\n'"
      ]
     },
     "execution_count": 91,
     "metadata": {},
     "output_type": "execute_result"
    }
   ],
   "source": [
    "df['article'][30]"
   ]
  },
  {
   "cell_type": "code",
   "execution_count": 92,
   "metadata": {},
   "outputs": [],
   "source": [
    "import kss\n",
    "\n",
    "a = kss.split_sentences(df['article'].apply(lambda x:drop_space(x))[31])"
   ]
  },
  {
   "cell_type": "code",
   "execution_count": 94,
   "metadata": {},
   "outputs": [
    {
     "data": {
      "text/plain": [
       "['전주교도소 심신치유실 비판…\"가족 피해 봐도 인권 말할 텐가\" 교도소 노래방 폐지 국민청원[청와대 홈페이지 캡처. 재판매 및 DB 금지](전주=연합뉴스) 정경재 기자 = 전북 전주교도소가 수용자 스트레스 해소를 위해 설치한 \\'심신 치유실(노래방과 게임기 등 설치)\\'을 폐지해 달라는 국민청원이 등장했다.',\n",
       " \"29일 청와대 국민청원 게시판에는 '전주교도소 심신 치유실을 당장 폐쇄해 주세요'라는 제목의 글이 올라왔다.\",\n",
       " '서울에 사는 30대 직장인이라고 소개한 청원인은 \"범죄자는 타인에게 피해를 주거나 법으로 정한 규범을 어긴 사람\"이라며 \"(그들이 가는 교도소는) 죄의 경중을 떠나 다시는 그 곳을 돌아가고 싶지 않도록 혹독하고 처절한 곳이어야 한다\"고 적었다.',\n",
       " '이어 \"그러나 삼시세끼를 다 해결해주고 춥든 덥든 편하게 잠을 잘 수 있는 공간을 주면 얼마나 편하겠느냐\"며 \"거기다가 노래방과 오락기까지 제공하면 이보다 더 편한 삶이 어디 있겠느냐\"고 덧붙였다.',\n",
       " '청원인은 심신 치유실 설치를 둘러싼 논란이 있다는 연합뉴스 기사를 링크하며 \"범죄자 인권을 보호해야 한다는 이들에게 가슴에 손을 얹고 대답하라고 묻고 싶다\"며 \"본인의 자녀나 형제, 가족에게 피해를 준 사람에게도 \\'인권을 지켜줘야 한다\\'고 당당하게 말할 수 있겠느냐\"고 지적했다.',\n",
       " '그러면서 \"심신 치유실을 설치할 돈을 범죄 피해를 본 이들을 적극적으로 구제하든가 어려운 이웃을 위해 사용해야 한다\"며 \"계획적 또는 우발적으로 범죄를 저질렀더라도 선택은 본인이 한 것이니 그들은 핍박받고 억압받아야 마땅하다\"고 강조했다.',\n",
       " \"노래부르는 수용자(전주=연합뉴스) 전북 전주교도소는 28일 수용자 스트레스 해소와 심신 안정을 위해 '심신 치유실'을 개관했다고 밝혔다.\",\n",
       " '치유실에는 조명과 음향기기가 있는 노래방 3곳과 두더지 잡기 게임기 2대, 상담실 등이 설치됐다.',\n",
       " '사진은 치유실에서 노래 부르는 수용자.',\n",
       " '2020.10.28 [전주교도소 제공. 재판매 및 DB 금지]전주교도소는 전날 수용자 스트레스 해소와 마음의 안정을 위해 심신 치유실을 개관했다.',\n",
       " '치유실에는 조명과 음향기기를 갖춘 노래방 3곳과 두더지 잡기 게임기 2대, 상담실이 마련됐다.',\n",
       " '전주교도소는 교정협의회 도움을 받아 올해 초부터 시설 설치를 준비해 왔다.',\n",
       " '개관까지 비용은 5천만원 상당이 든 것으로 알려졌다.',\n",
       " '전주교도소 관계자는 \"(심신 치유실은) 수용자 인권과 행복추구권을 향상하기 위한 시설\"이라며 \"교정 목적에 맞게 시설을 운영하겠다\"고 전했다.',\n",
       " 'jaya@yna.co.kr▶코로나19 속보는 네이버 연합뉴스[구독 클릭]▶[팩트체크]공수처장 없이 공수처 출범 가능?▶제보하기<저작권자(c) 연합뉴스(https://www.yna.co.kr/), 무단 전재-재배포 금지>']"
      ]
     },
     "execution_count": 94,
     "metadata": {},
     "output_type": "execute_result"
    }
   ],
   "source": [
    "a"
   ]
  },
  {
   "cell_type": "markdown",
   "metadata": {},
   "source": [
    "#### Mecab Morphological Analyze Test"
   ]
  },
  {
   "cell_type": "code",
   "execution_count": 96,
   "metadata": {},
   "outputs": [],
   "source": [
    "from eunjeon import Mecab"
   ]
  },
  {
   "cell_type": "code",
   "execution_count": 97,
   "metadata": {},
   "outputs": [],
   "source": [
    "mecab = Mecab()"
   ]
  },
  {
   "cell_type": "code",
   "execution_count": 101,
   "metadata": {},
   "outputs": [
    {
     "name": "stdout",
     "output_type": "stream",
     "text": [
      "['이어', '\"', '그러나', '삼', '시', '세끼', '를', '다', '해결', '해', '주', '고', '춥', '든', '덥', '든', '편하', '게', '잠', '을', '잘', '수', '있', '는', '공간', '을', '주', '면', '얼마나', '편하', '겠', '느냐', '\"', '며', '\"', '거기', '다가', '노래방', '과', '오락', '기', '까지', '제공', '하', '면', '이', '보다', '더', '편한', '삶', '이', '어디', '있', '겠', '느냐', '\"', '고', '덧붙였', '다', '.']\n"
     ]
    }
   ],
   "source": [
    "print(mecab.morphs(a[3]))"
   ]
  },
  {
   "cell_type": "code",
   "execution_count": 102,
   "metadata": {},
   "outputs": [
    {
     "name": "stdout",
     "output_type": "stream",
     "text": [
      "['삼', '시', '세끼', '해결', '잠', '수', '공간', '거기', '노래방', '오락', '제공', '이', '삶', '어디']\n"
     ]
    }
   ],
   "source": [
    "print(mecab.nouns(a[3]))"
   ]
  },
  {
   "cell_type": "code",
   "execution_count": 103,
   "metadata": {},
   "outputs": [
    {
     "name": "stdout",
     "output_type": "stream",
     "text": [
      "[('이어', 'MAG'), ('\"', 'SY'), ('그러나', 'MAJ'), ('삼', 'NR'), ('시', 'NNBC'), ('세끼', 'NNG'), ('를', 'JKO'), ('다', 'MAG'), ('해결', 'NNG'), ('해', 'XSV+EC'), ('주', 'VX'), ('고', 'EC'), ('춥', 'VA'), ('든', 'EC'), ('덥', 'VA'), ('든', 'EC'), ('편하', 'VA'), ('게', 'EC'), ('잠', 'NNG'), ('을', 'JKO'), ('잘', 'VV+ETM'), ('수', 'NNB'), ('있', 'VV'), ('는', 'ETM'), ('공간', 'NNG'), ('을', 'JKO'), ('주', 'VV'), ('면', 'EC'), ('얼마나', 'MAG'), ('편하', 'VA'), ('겠', 'EP'), ('느냐', 'EC'), ('\"', 'SY'), ('며', 'EC'), ('\"', 'SY'), ('거기', 'NP'), ('다가', 'JX'), ('노래방', 'NNG'), ('과', 'JC'), ('오락', 'NNG'), ('기', 'XSN'), ('까지', 'JX'), ('제공', 'NNG'), ('하', 'XSV'), ('면', 'EC'), ('이', 'NP'), ('보다', 'JKB'), ('더', 'MAG'), ('편한', 'VA+ETM'), ('삶', 'NNG'), ('이', 'JKS'), ('어디', 'NP'), ('있', 'VA'), ('겠', 'EP'), ('느냐', 'EC'), ('\"', 'SY'), ('고', 'JKQ'), ('덧붙였', 'VV+EP'), ('다', 'EF'), ('.', 'SF')]\n"
     ]
    }
   ],
   "source": [
    "print(mecab.pos(a[3]))"
   ]
  },
  {
   "cell_type": "markdown",
   "metadata": {},
   "source": [
    "what is machinelearning sequence model?"
   ]
  },
  {
   "cell_type": "markdown",
   "metadata": {},
   "source": [
    "## Integer Encoding"
   ]
  },
  {
   "cell_type": "markdown",
   "metadata": {},
   "source": [
    "#### dictionary Integer Encoding"
   ]
  },
  {
   "cell_type": "code",
   "execution_count": 116,
   "metadata": {},
   "outputs": [],
   "source": [
    "b = kss.split_sentences(df['article'].apply(lambda y:drop_space(y))[32])\n",
    "b = b[:-1]"
   ]
  },
  {
   "cell_type": "markdown",
   "metadata": {},
   "source": [
    "implement on my macbook"
   ]
  },
  {
   "cell_type": "markdown",
   "metadata": {},
   "source": [
    "### Korean Text Prerpocessing Tools"
   ]
  },
  {
   "cell_type": "markdown",
   "metadata": {},
   "source": [
    "#### sequence prediction mdoel"
   ]
  },
  {
   "cell_type": "code",
   "execution_count": 3,
   "metadata": {
    "scrolled": true
   },
   "outputs": [],
   "source": [
    "#!pip install git+https://github.com/haven-jeon/PyKoSpacing.git"
   ]
  },
  {
   "cell_type": "code",
   "execution_count": 6,
   "metadata": {},
   "outputs": [],
   "source": [
    "# sent = '김철수는 극중 두 인격의 사나이 이광수 역을 맡았다. 철수는 한국 유일의 태권도 전승자를 가리는 결전의 날을 앞두고 10년간 함께 훈련한 사형인 유연재(김광수 분)를 찾으러 속세로 내려온 인물이다.'"
   ]
  },
  {
   "cell_type": "code",
   "execution_count": 7,
   "metadata": {},
   "outputs": [],
   "source": [
    "# new_sent = sent.replace(\" \", '') # 띄어쓰기가 없는 문장 임의로 만들기\n",
    "# print(new_sent)"
   ]
  },
  {
   "cell_type": "code",
   "execution_count": 8,
   "metadata": {},
   "outputs": [],
   "source": [
    "# from pykospacing import spacing\n",
    "\n",
    "# kospacing_sent = spacing(new_sent)\n",
    "# print(sent)\n",
    "# print(kospacing_sent)"
   ]
  },
  {
   "cell_type": "markdown",
   "metadata": {},
   "source": [
    "#### spelling check with naver papago service"
   ]
  },
  {
   "cell_type": "code",
   "execution_count": 4,
   "metadata": {},
   "outputs": [],
   "source": [
    "#!pip install git+https://github.com/ssut/py-hanspell.git"
   ]
  },
  {
   "cell_type": "code",
   "execution_count": 5,
   "metadata": {},
   "outputs": [
    {
     "ename": "ModuleNotFoundError",
     "evalue": "No module named 'hanspell'",
     "output_type": "error",
     "traceback": [
      "\u001b[1;31m--------------------------------------------------------------\u001b[0m",
      "\u001b[1;31mModuleNotFoundError\u001b[0m          Traceback (most recent call last)",
      "\u001b[1;32m<ipython-input-5-9f42d597179c>\u001b[0m in \u001b[0;36m<module>\u001b[1;34m\u001b[0m\n\u001b[1;32m----> 1\u001b[1;33m \u001b[1;32mfrom\u001b[0m \u001b[0mhanspell\u001b[0m \u001b[1;32mimport\u001b[0m \u001b[0mspell_checker\u001b[0m\u001b[1;33m\u001b[0m\u001b[1;33m\u001b[0m\u001b[0m\n\u001b[0m\u001b[0;32m      2\u001b[0m \u001b[1;33m\u001b[0m\u001b[0m\n\u001b[0;32m      3\u001b[0m \u001b[0msent\u001b[0m \u001b[1;33m=\u001b[0m \u001b[1;34m\"맞춤법 틀리면 외 않되? 쓰고싶은대로쓰면돼지 \"\u001b[0m\u001b[1;33m\u001b[0m\u001b[1;33m\u001b[0m\u001b[0m\n\u001b[0;32m      4\u001b[0m \u001b[0mspelled_sent\u001b[0m \u001b[1;33m=\u001b[0m \u001b[0mspell_checker\u001b[0m\u001b[1;33m.\u001b[0m\u001b[0mcheck\u001b[0m\u001b[1;33m(\u001b[0m\u001b[0msent\u001b[0m\u001b[1;33m)\u001b[0m\u001b[1;33m\u001b[0m\u001b[1;33m\u001b[0m\u001b[0m\n\u001b[0;32m      5\u001b[0m \u001b[1;33m\u001b[0m\u001b[0m\n",
      "\u001b[1;31mModuleNotFoundError\u001b[0m: No module named 'hanspell'"
     ]
    }
   ],
   "source": [
    "# from hanspell import spell_checker\n",
    "\n",
    "# sent = \"맞춤법 틀리면 외 않되? 쓰고싶은대로쓰면돼지 \"\n",
    "# spelled_sent = spell_checker.check(sent)\n",
    "\n",
    "# hanspell_sent = spelled_sent.checked\n",
    "# print(hanspell_sent)"
   ]
  },
  {
   "cell_type": "code",
   "execution_count": null,
   "metadata": {},
   "outputs": [],
   "source": [
    "# spelled_sent = spell_checker.check(new_sent)\n",
    "\n",
    "# hanspell_sent = spelled_sent.checked\n",
    "# print(hanspell_sent)\n",
    "# print(kospacing_sent) # 앞서 사용한 kospacing 패키지에서 얻은 결과"
   ]
  },
  {
   "cell_type": "markdown",
   "metadata": {},
   "source": [
    "### Korean Text Tokenization"
   ]
  },
  {
   "cell_type": "markdown",
   "metadata": {},
   "source": [
    "#### 신조어 문제 -> 신조어 EX(최애돌 , 아이돌 이름 등) 구분 힘듬"
   ]
  },
  {
   "cell_type": "code",
   "execution_count": 16,
   "metadata": {},
   "outputs": [
    {
     "name": "stdout",
     "output_type": "stream",
     "text": [
      "Note: you may need to restart the kernel to use updated packages.Collecting soynlp\n"
     ]
    },
    {
     "name": "stderr",
     "output_type": "stream",
     "text": [
      "WARNING: You are using pip version 20.2.3; however, version 20.2.4 is available.\n",
      "You should consider upgrading via the 'C:\\Users\\Mohw-IN\\anaconda3\\python.exe -m pip install --upgrade pip' command.\n"
     ]
    },
    {
     "name": "stdout",
     "output_type": "stream",
     "text": [
      "\n",
      "  Downloading soynlp-0.0.493-py3-none-any.whl (416 kB)\n",
      "Requirement already satisfied: scipy>=1.1.0 in c:\\users\\mohw-in\\anaconda3\\lib\\site-packages (from soynlp) (1.4.1)\n",
      "Requirement already satisfied: psutil>=5.0.1 in c:\\users\\mohw-in\\anaconda3\\lib\\site-packages (from soynlp) (5.7.0)\n",
      "Requirement already satisfied: numpy>=1.12.1 in c:\\users\\mohw-in\\anaconda3\\lib\\site-packages (from soynlp) (1.16.6)\n",
      "Requirement already satisfied: scikit-learn>=0.20.0 in c:\\users\\mohw-in\\anaconda3\\lib\\site-packages (from soynlp) (0.23.1)\n",
      "Requirement already satisfied: threadpoolctl>=2.0.0 in c:\\users\\mohw-in\\anaconda3\\lib\\site-packages (from scikit-learn>=0.20.0->soynlp) (2.1.0)\n",
      "Requirement already satisfied: joblib>=0.11 in c:\\users\\mohw-in\\anaconda3\\lib\\site-packages (from scikit-learn>=0.20.0->soynlp) (0.16.0)\n",
      "Installing collected packages: soynlp\n",
      "Successfully installed soynlp-0.0.493\n"
     ]
    }
   ],
   "source": [
    "pip install soynlp --trusted-host pypi.org --trusted-host files.pythonhosted.org"
   ]
  },
  {
   "cell_type": "markdown",
   "metadata": {},
   "source": [
    "#### soynlp는 학습에 기밯난 tokenizer 이므로 학습에 필요한 한국어 문서 다운"
   ]
  },
  {
   "cell_type": "code",
   "execution_count": 19,
   "metadata": {},
   "outputs": [],
   "source": [
    "import urllib.request\n",
    "from soynlp import DoublespaceLineCorpus\n",
    "from soynlp.word import WordExtractor"
   ]
  },
  {
   "cell_type": "code",
   "execution_count": 21,
   "metadata": {},
   "outputs": [],
   "source": [
    "urllib.request.urlretrieve(\"https://raw.githubusercontent.com/lovit/soynlp/master/tutorials/2016-10-20.txt\", filename=\"2016-10-20.txt\")"
   ]
  },
  {
   "cell_type": "markdown",
   "metadata": {},
   "source": [
    "#### 훈련 데이터를 다수의 문서로 분할"
   ]
  },
  {
   "cell_type": "code",
   "execution_count": 27,
   "metadata": {},
   "outputs": [
    {
     "data": {
      "text/plain": [
       "30091"
      ]
     },
     "execution_count": 27,
     "metadata": {},
     "output_type": "execute_result"
    }
   ],
   "source": [
    "corpus = DoublespaceLineCorpus(\"2016-10-20.txt\")\n",
    "len(corpus)"
   ]
  },
  {
   "cell_type": "code",
   "execution_count": 28,
   "metadata": {},
   "outputs": [
    {
     "name": "stdout",
     "output_type": "stream",
     "text": [
      "19  1990  52 1 22\n",
      "오패산터널 총격전 용의자 검거 서울 연합뉴스 경찰 관계자들이 19일 오후 서울 강북구 오패산 터널 인근에서 사제 총기를 발사해 경찰을 살해한 용의자 성모씨를 검거하고 있다 성씨는 검거 당시 서바이벌 게임에서 쓰는 방탄조끼에 헬멧까지 착용한 상태였다 독자제공 영상 캡처 연합뉴스  서울 연합뉴스 김은경 기자 사제 총기로 경찰을 살해한 범인 성모 46 씨는 주도면밀했다  경찰에 따르면 성씨는 19일 오후 강북경찰서 인근 부동산 업소 밖에서 부동산업자 이모 67 씨가 나오기를 기다렸다 이씨와는 평소에도 말다툼을 자주 한 것으로 알려졌다  이씨가 나와 걷기 시작하자 성씨는 따라가면서 미리 준비해온 사제 총기를 이씨에게 발사했다 총알이 빗나가면서 이씨는 도망갔다 그 빗나간 총알은 지나가던 행인 71 씨의 배를 스쳤다  성씨는 강북서 인근 치킨집까지 이씨 뒤를 쫓으며 실랑이하다 쓰러뜨린 후 총기와 함께 가져온 망치로 이씨 머리를 때렸다  이 과정에서 오후 6시 20분께 강북구 번동 길 위에서 사람들이 싸우고 있다 총소리가 났다 는 등의 신고가 여러건 들어왔다  5분 후에 성씨의 전자발찌가 훼손됐다는 신고가 보호관찰소 시스템을 통해 들어왔다 성범죄자로 전자발찌를 차고 있던 성씨는 부엌칼로 직접 자신의 발찌를 끊었다  용의자 소지 사제총기 2정 서울 연합뉴스 임헌정 기자 서울 시내에서 폭행 용의자가 현장 조사를 벌이던 경찰관에게 사제총기를 발사해 경찰관이 숨졌다 19일 오후 6시28분 강북구 번동에서 둔기로 맞았다 는 폭행 피해 신고가 접수돼 현장에서 조사하던 강북경찰서 번동파출소 소속 김모 54 경위가 폭행 용의자 성모 45 씨가 쏜 사제총기에 맞고 쓰러진 뒤 병원에 옮겨졌으나 숨졌다 사진은 용의자가 소지한 사제총기  신고를 받고 번동파출소에서 김창호 54 경위 등 경찰들이 오후 6시 29분께 현장으로 출동했다 성씨는 그사이 부동산 앞에 놓아뒀던 가방을 챙겨 오패산 쪽으로 도망간 후였다  김 경위는 오패산 터널 입구 오른쪽의 급경사에서 성씨에게 접근하다가 오후 6시 33분께 풀숲에 숨은 성씨가 허공에 난사한 10여발의 총알 중 일부를 왼쪽 어깨 뒷부분에 맞고 쓰러졌다  김 경위는 구급차가 도착했을 때 이미 의식이 없었고 심폐소생술을 하며 병원으로 옮겨졌으나 총알이 폐를 훼손해 오후 7시 40분께 사망했다  김 경위는 외근용 조끼를 입고 있었으나 총알을 막기에는 역부족이었다  머리에 부상을 입은 이씨도 함께 병원으로 이송됐으나 생명에는 지장이 없는 것으로 알려졌다  성씨는 오패산 터널 밑쪽 숲에서 오후 6시 45분께 잡혔다  총격현장 수색하는 경찰들 서울 연합뉴스 이효석 기자 19일 오후 서울 강북구 오패산 터널 인근에서 경찰들이 폭행 용의자가 사제총기를 발사해 경찰관이 사망한 사건을 조사 하고 있다  총 때문에 쫓던 경관들과 민간인들이 몸을 숨겼는데 인근 신발가게 직원 이모씨가 다가가 성씨를 덮쳤고 이어 현장에 있던 다른 상인들과 경찰이 가세해 체포했다  성씨는 경찰에 붙잡힌 직후 나 자살하려고 한 거다 맞아 죽어도 괜찮다 고 말한 것으로 전해졌다  성씨 자신도 경찰이 발사한 공포탄 1발 실탄 3발 중 실탄 1발을 배에 맞았으나 방탄조끼를 입은 상태여서 부상하지는 않았다  경찰은 인근을 수색해 성씨가 만든 사제총 16정과 칼 7개를 압수했다 실제 폭발할지는 알 수 없는 요구르트병에 무언가를 채워두고 심지를 꽂은 사제 폭탄도 발견됐다  일부는 숲에서 발견됐고 일부는 성씨가 소지한 가방 안에 있었다\n",
      "테헤란 연합뉴스 강훈상 특파원 이용 승객수 기준 세계 최대 공항인 아랍에미리트 두바이국제공항은 19일 현지시간 이 공항을 이륙하는 모든 항공기의 탑승객은 삼성전자의 갤럭시노트7을 휴대하면 안 된다고 밝혔다  두바이국제공항은 여러 항공 관련 기구의 권고에 따라 안전성에 우려가 있는 스마트폰 갤럭시노트7을 휴대하고 비행기를 타면 안 된다 며 탑승 전 검색 중 발견되면 압수할 계획 이라고 발표했다  공항 측은 갤럭시노트7의 배터리가 폭발 우려가 제기된 만큼 이 제품을 갖고 공항 안으로 들어오지 말라고 이용객에 당부했다  이런 조치는 두바이국제공항 뿐 아니라 신공항인 두바이월드센터에도 적용된다  배터리 폭발문제로 회수된 갤럭시노트7 연합뉴스자료사진\n"
     ]
    }
   ],
   "source": [
    "i = 0\n",
    "\n",
    "for document in corpus:\n",
    "    if len(document) > 0:\n",
    "        print(document)\n",
    "        i = i + 1\n",
    "    if i == 3:\n",
    "        break"
   ]
  },
  {
   "cell_type": "markdown",
   "metadata": {},
   "source": [
    "#### WordExtractor.extract()를 통해 전체 내용에 대한 단어 점수표 계산 ( 학습 기반 tokenizer여서 , 응집확률 & 브랜칭 엔트로피 단어 점수표를 만듬)"
   ]
  },
  {
   "cell_type": "code",
   "execution_count": 36,
   "metadata": {},
   "outputs": [
    {
     "name": "stdout",
     "output_type": "stream",
     "text": [
      "training was done. used memory 0.985 Gb\n",
      "all cohesion probabilities was computed. # words = 223348\n",
      "all branching entropies was computed # words = 361598\n",
      "all accessor variety was computed # words = 361598\n"
     ]
    }
   ],
   "source": [
    "word_extractor = WordExtractor()\n",
    "word_extractor.train(corpus)\n",
    "word_score_table = word_extractor.extract()"
   ]
  },
  {
   "cell_type": "markdown",
   "metadata": {},
   "source": [
    "#### soynlp의 cohesion probability"
   ]
  },
  {
   "cell_type": "code",
   "execution_count": 37,
   "metadata": {},
   "outputs": [
    {
     "data": {
      "text/plain": [
       "0.08838002913645132"
      ]
     },
     "execution_count": 37,
     "metadata": {},
     "output_type": "execute_result"
    }
   ],
   "source": [
    "word_score_table[\"반포한\"].cohesion_forward"
   ]
  },
  {
   "cell_type": "code",
   "execution_count": 45,
   "metadata": {},
   "outputs": [
    {
     "data": {
      "text/plain": [
       "0.37891487632839754"
      ]
     },
     "execution_count": 45,
     "metadata": {},
     "output_type": "execute_result"
    }
   ],
   "source": [
    "word_score_table[\"반포한강공원\"].cohesion_forward"
   ]
  },
  {
   "cell_type": "markdown",
   "metadata": {},
   "source": [
    "#### soynlp의 brancing entropoy"
   ]
  },
  {
   "cell_type": "code",
   "execution_count": 46,
   "metadata": {},
   "outputs": [
    {
     "data": {
      "text/plain": [
       "1.6371694761537934"
      ]
     },
     "execution_count": 46,
     "metadata": {},
     "output_type": "execute_result"
    }
   ],
   "source": [
    "word_score_table[\"디스\"].right_branching_entropy"
   ]
  },
  {
   "cell_type": "code",
   "execution_count": 47,
   "metadata": {},
   "outputs": [
    {
     "data": {
      "text/plain": [
       "-0.0"
      ]
     },
     "execution_count": 47,
     "metadata": {},
     "output_type": "execute_result"
    }
   ],
   "source": [
    "word_score_table[\"디스플\"].right_branching_entropy"
   ]
  },
  {
   "cell_type": "code",
   "execution_count": 48,
   "metadata": {},
   "outputs": [
    {
     "data": {
      "text/plain": [
       "-0.0"
      ]
     },
     "execution_count": 48,
     "metadata": {},
     "output_type": "execute_result"
    }
   ],
   "source": [
    "word_score_table[\"디스플레\"].right_branching_entropy"
   ]
  },
  {
   "cell_type": "code",
   "execution_count": 49,
   "metadata": {},
   "outputs": [
    {
     "data": {
      "text/plain": [
       "3.1400392861792916"
      ]
     },
     "execution_count": 49,
     "metadata": {},
     "output_type": "execute_result"
    }
   ],
   "source": [
    "word_score_table[\"디스플레이\"].right_branching_entropy"
   ]
  },
  {
   "cell_type": "markdown",
   "metadata": {},
   "source": [
    "#### soynlp의 L tokenizer (띄어쓰기 단위로 나누 ㄴ어절 토큰)"
   ]
  },
  {
   "cell_type": "markdown",
   "metadata": {},
   "source": [
    "> 한국어는 띄어쓰기 단위로 나눈 어절 토큰은 주로 L 토큰 + R 토큰의 형식을 가질 때가 많습니다. 예를 들어서 '공원에'는 '공원 + 에'로 나눌 수 있겠지요. 또는 '공부하는'은 '공부 + 하는'으로 나눌 수도 있을 것입니다. L 토크나이저는 L 토큰 + R 토큰으로 나누되, 분리 기준을 점수가 가장 높은 L 토큰을 찾아내는 원리를 가지고 있습니다."
   ]
  },
  {
   "cell_type": "code",
   "execution_count": 50,
   "metadata": {},
   "outputs": [
    {
     "data": {
      "text/plain": [
       "[('국제사회', '와'), ('우리', '의'), ('노력', '들로'), ('범죄', '를'), ('척결', '하자')]"
      ]
     },
     "execution_count": 50,
     "metadata": {},
     "output_type": "execute_result"
    }
   ],
   "source": [
    "from soynlp.tokenizer import LTokenizer\n",
    "\n",
    "scores = {word:score.cohesion_forward for word, score in word_score_table.items()}\n",
    "l_tokenizer = LTokenizer(scores=scores)\n",
    "l_tokenizer.tokenize(\"국제사회와 우리의 노력들로 범죄를 척결하자\", flatten=False)"
   ]
  },
  {
   "cell_type": "markdown",
   "metadata": {},
   "source": [
    "##### 최대점수 Tokenizer"
   ]
  },
  {
   "cell_type": "markdown",
   "metadata": {},
   "source": [
    "> 띄어쓰기가 되지 않는 문장에서 점수가 높은 글자를 순차적으로 찾아내는 Tokenizer"
   ]
  },
  {
   "cell_type": "code",
   "execution_count": 52,
   "metadata": {},
   "outputs": [
    {
     "data": {
      "text/plain": [
       "['국제사회', '와', '우리', '의', '노력', '들로', '범죄', '를', '척결', '하자']"
      ]
     },
     "execution_count": 52,
     "metadata": {},
     "output_type": "execute_result"
    }
   ],
   "source": [
    "from soynlp.tokenizer import MaxScoreTokenizer\n",
    "\n",
    "maxscore_tokenizer = MaxScoreTokenizer(scores=scores)\n",
    "maxscore_tokenizer.tokenize(\"국제사회와우리의노력들로범죄를척결하자\")"
   ]
  },
  {
   "cell_type": "markdown",
   "metadata": {},
   "source": [
    "#### SOYNLP를 이용한 반복되는 문자 정제 \n",
    "#### **SNS에서 활용범위 높을 것으로 사료됨**"
   ]
  },
  {
   "cell_type": "markdown",
   "metadata": {},
   "source": [
    "> SNS나 채팅 데이터와 같은 한국어 데이터의 경우에는 ㅋㅋ, ㅎㅎ 등의 이모티콘의 경우 불필요하게 연속되는 경우가 많은데 ㅋㅋ, ㅋㅋㅋ, ㅋㅋㅋㅋ와 같은 경우를 모두 서로 다른 단어로 처리하는 것은 불필요합니다. 이에 반복되는 것은 하나로 정규화시켜줍니다."
   ]
  },
  {
   "cell_type": "code",
   "execution_count": 53,
   "metadata": {},
   "outputs": [],
   "source": [
    "from soynlp.normalizer import *"
   ]
  },
  {
   "cell_type": "code",
   "execution_count": 54,
   "metadata": {},
   "outputs": [
    {
     "name": "stdout",
     "output_type": "stream",
     "text": [
      "아ㅋㅋ영화존잼쓰ㅠㅠ\n",
      "아ㅋㅋ영화존잼쓰ㅠㅠ\n",
      "아ㅋㅋ영화존잼쓰ㅠㅠ\n",
      "아ㅋㅋ영화존잼쓰ㅠㅠ\n"
     ]
    }
   ],
   "source": [
    "print(emoticon_normalize('앜ㅋㅋㅋㅋ이영화존잼쓰ㅠㅠㅠㅠㅠ', num_repeats=2))\n",
    "print(emoticon_normalize('앜ㅋㅋㅋㅋㅋㅋㅋㅋㅋ이영화존잼쓰ㅠㅠㅠㅠ', num_repeats=2))\n",
    "print(emoticon_normalize('앜ㅋㅋㅋㅋㅋㅋㅋㅋㅋㅋㅋㅋ이영화존잼쓰ㅠㅠㅠㅠㅠㅠ', num_repeats=2))\n",
    "print(emoticon_normalize('앜ㅋㅋㅋㅋㅋㅋㅋㅋㅋㅋㅋㅋㅋㅋㅋㅋㅋ이영화존잼쓰ㅠㅠㅠㅠㅠㅠㅠㅠ', num_repeats=2))"
   ]
  },
  {
   "cell_type": "code",
   "execution_count": 55,
   "metadata": {},
   "outputs": [
    {
     "name": "stdout",
     "output_type": "stream",
     "text": [
      "와하하핫\n",
      "와하하핫\n",
      "와하하핫\n"
     ]
    }
   ],
   "source": [
    "print(repeat_normalize('와하하하하하하하하하핫', num_repeats=2))\n",
    "print(repeat_normalize('와하하하하하하핫', num_repeats=2))\n",
    "print(repeat_normalize('와하하하하핫', num_repeats=2))"
   ]
  },
  {
   "cell_type": "code",
   "execution_count": null,
   "metadata": {},
   "outputs": [],
   "source": []
  }
 ],
 "metadata": {
  "kernelspec": {
   "display_name": "Python 3",
   "language": "python",
   "name": "python3"
  },
  "language_info": {
   "codemirror_mode": {
    "name": "ipython",
    "version": 3
   },
   "file_extension": ".py",
   "mimetype": "text/x-python",
   "name": "python",
   "nbconvert_exporter": "python",
   "pygments_lexer": "ipython3",
   "version": "3.8.3"
  }
 },
 "nbformat": 4,
 "nbformat_minor": 4
}
