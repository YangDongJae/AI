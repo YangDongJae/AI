{
 "cells": [
  {
   "cell_type": "code",
   "execution_count": 1,
   "metadata": {},
   "outputs": [
    {
     "data": {
      "text/html": [
       "<div>\n",
       "<style scoped>\n",
       "    .dataframe tbody tr th:only-of-type {\n",
       "        vertical-align: middle;\n",
       "    }\n",
       "\n",
       "    .dataframe tbody tr th {\n",
       "        vertical-align: top;\n",
       "    }\n",
       "\n",
       "    .dataframe thead th {\n",
       "        text-align: right;\n",
       "    }\n",
       "</style>\n",
       "<table border=\"1\" class=\"dataframe\">\n",
       "  <thead>\n",
       "    <tr style=\"text-align: right;\">\n",
       "      <th></th>\n",
       "      <th>Unnamed: 0</th>\n",
       "      <th>ver</th>\n",
       "      <th>hor</th>\n",
       "      <th>y</th>\n",
       "    </tr>\n",
       "  </thead>\n",
       "  <tbody>\n",
       "    <tr>\n",
       "      <th>0</th>\n",
       "      <td>0</td>\n",
       "      <td>0.643</td>\n",
       "      <td>0.471</td>\n",
       "      <td>0.0</td>\n",
       "    </tr>\n",
       "    <tr>\n",
       "      <th>1</th>\n",
       "      <td>1</td>\n",
       "      <td>0.703</td>\n",
       "      <td>0.445</td>\n",
       "      <td>0.0</td>\n",
       "    </tr>\n",
       "    <tr>\n",
       "      <th>2</th>\n",
       "      <td>2</td>\n",
       "      <td>0.808</td>\n",
       "      <td>0.397</td>\n",
       "      <td>0.0</td>\n",
       "    </tr>\n",
       "    <tr>\n",
       "      <th>3</th>\n",
       "      <td>3</td>\n",
       "      <td>0.679</td>\n",
       "      <td>0.382</td>\n",
       "      <td>0.0</td>\n",
       "    </tr>\n",
       "    <tr>\n",
       "      <th>4</th>\n",
       "      <td>4</td>\n",
       "      <td>0.701</td>\n",
       "      <td>0.366</td>\n",
       "      <td>0.0</td>\n",
       "    </tr>\n",
       "  </tbody>\n",
       "</table>\n",
       "</div>"
      ],
      "text/plain": [
       "   Unnamed: 0    ver    hor    y\n",
       "0           0  0.643  0.471  0.0\n",
       "1           1  0.703  0.445  0.0\n",
       "2           2  0.808  0.397  0.0\n",
       "3           3  0.679  0.382  0.0\n",
       "4           4  0.701  0.366  0.0"
      ]
     },
     "execution_count": 1,
     "metadata": {},
     "output_type": "execute_result"
    }
   ],
   "source": [
    "import pandas as pd\n",
    "import matplotlib.pyplot as plt\n",
    "from tensorflow import keras\n",
    "import numpy as np\n",
    "data = pd.read_csv(\"Data.csv\")\n",
    "# data = pd.read_csv(\"TrackingData.csv\")\n",
    "data.head()"
   ]
  },
  {
   "cell_type": "code",
   "execution_count": 2,
   "metadata": {},
   "outputs": [
    {
     "name": "stdout",
     "output_type": "stream",
     "text": [
      "<class 'pandas.core.frame.DataFrame'>\n",
      "RangeIndex: 7687 entries, 0 to 7686\n",
      "Data columns (total 4 columns):\n",
      "Unnamed: 0    7687 non-null int64\n",
      "ver           7687 non-null float64\n",
      "hor           7687 non-null float64\n",
      "y             7687 non-null float64\n",
      "dtypes: float64(3), int64(1)\n",
      "memory usage: 240.3 KB\n"
     ]
    }
   ],
   "source": [
    "data.info()"
   ]
  },
  {
   "cell_type": "code",
   "execution_count": 3,
   "metadata": {},
   "outputs": [],
   "source": [
    "#none값 제거\n",
    "data = data.dropna(axis=0)"
   ]
  },
  {
   "cell_type": "code",
   "execution_count": 4,
   "metadata": {},
   "outputs": [
    {
     "data": {
      "text/plain": [
       "<function matplotlib.pyplot.show(*args, **kw)>"
      ]
     },
     "execution_count": 4,
     "metadata": {},
     "output_type": "execute_result"
    },
    {
     "data": {
      "image/png": "[encoded data removed]",
      "text/plain": [
       "<Figure size 360x360 with 4 Axes>"
      ]
     },
     "metadata": {
      "needs_background": "light"
     },
     "output_type": "display_data"
    }
   ],
   "source": [
    "data.hist(bins=50, figsize=(5, 5))\n",
    "plt.show"
   ]
  },
  {
   "cell_type": "code",
   "execution_count": 5,
   "metadata": {},
   "outputs": [],
   "source": [
    "data = data.drop(['Unnamed: 0'], axis=1)"
   ]
  },
  {
   "cell_type": "code",
   "execution_count": 6,
   "metadata": {},
   "outputs": [],
   "source": [
    "X = data.iloc[:,0:2].values\n",
    "y = data.iloc[:,2].values"
   ]
  },
  {
   "cell_type": "code",
   "execution_count": 7,
   "metadata": {},
   "outputs": [
    {
     "data": {
      "text/plain": [
       "array([[0.643, 0.471],\n",
       "       [0.703, 0.445],\n",
       "       [0.808, 0.397],\n",
       "       ...,\n",
       "       [1.07 , 0.84 ],\n",
       "       [1.07 , 0.823],\n",
       "       [1.07 , 0.823]])"
      ]
     },
     "execution_count": 7,
     "metadata": {},
     "output_type": "execute_result"
    }
   ],
   "source": [
    "X"
   ]
  },
  {
   "cell_type": "code",
   "execution_count": 8,
   "metadata": {},
   "outputs": [
    {
     "data": {
      "text/plain": [
       "array([0., 0., 0., ..., 1., 1., 1.])"
      ]
     },
     "execution_count": 8,
     "metadata": {},
     "output_type": "execute_result"
    }
   ],
   "source": [
    "y"
   ]
  },
  {
   "cell_type": "code",
   "execution_count": null,
   "metadata": {},
   "outputs": [
    {
     "data": {
      "text/plain": [
       "((6149, 2), (1538, 2), (6149,), (1538,))"
      ]
     },
     "execution_count": 9,
     "metadata": {},
     "output_type": "execute_result"
    }
   ],
   "source": [
    "from sklearn.model_selection import train_test_split\n",
    "X_train, X_test, y_train, y_test = train_test_split(X, y, \n",
    "                                                    test_size=0.2, \n",
    "                                                    random_state=1) \n",
    "X_train.shape, X_test.shape, y_train.shape, y_test.shape"
   ]
  },
  {
   "cell_type": "code",
   "execution_count": null,
   "metadata": {},
   "outputs": [
    {
     "data": {
      "text/plain": [
       "array([[0.706, 0.636],\n",
       "       [0.789, 0.596],\n",
       "       [0.772, 0.63 ],\n",
       "       ...,\n",
       "       [0.739, 0.673],\n",
       "       [0.607, 0.639],\n",
       "       [0.813, 0.708]])"
      ]
     },
     "execution_count": 10,
     "metadata": {},
     "output_type": "execute_result"
    }
   ],
   "source": [
    "X_train"
   ]
  },
  {
   "cell_type": "code",
   "execution_count": null,
   "metadata": {
    "scrolled": true
   },
   "outputs": [
    {
     "name": "stderr",
     "output_type": "stream",
     "text": [
      "Using TensorFlow backend.\n"
     ]
    },
    {
     "name": "stdout",
     "output_type": "stream",
     "text": [
      "WARNING:tensorflow:From C:\\Users\\sejon\\Anaconda3\\lib\\site-packages\\tensorflow\\python\\ops\\nn_impl.py:180: add_dispatch_support.<locals>.wrapper (from tensorflow.python.ops.array_ops) is deprecated and will be removed in a future version.\n",
      "Instructions for updating:\n",
      "Use tf.where in 2.0, which has the same broadcast rule as np.where\n",
      "Model: \"sequential_1\"\n",
      "_________________________________________________________________\n",
      "Layer (type)                 Output Shape              Param #   \n",
      "=================================================================\n",
      "dense_1 (Dense)              (None, 64)                192       \n",
      "_________________________________________________________________\n",
      "dense_2 (Dense)              (None, 64)                4160      \n",
      "_________________________________________________________________\n",
      "dense_3 (Dense)              (None, 1)                 65        \n",
      "=================================================================\n",
      "Total params: 4,417\n",
      "Trainable params: 4,417\n",
      "Non-trainable params: 0\n",
      "_________________________________________________________________\n"
     ]
    }
   ],
   "source": [
    "from keras.models import Sequential\n",
    "from keras.layers import Dense\n",
    "from keras.optimizers import Adam\n",
    "\n",
    "model = Sequential()\n",
    "\n",
    "model.add(Dense(64,input_shape=(2,),activation='relu'))\n",
    "model.add(Dense(64,activation='relu'))\n",
    "model.add(Dense(1,activation='sigmoid'))\n",
    "\n",
    "model.compile(loss='binary_crossentropy',\n",
    "              optimizer='rmsprop',\n",
    "              metrics=['accuracy'])\n",
    "\n",
    "model.summary()"
   ]
  },
  {
   "cell_type": "code",
   "execution_count": null,
   "metadata": {},
   "outputs": [
    {
     "name": "stdout",
     "output_type": "stream",
     "text": [
      "WARNING:tensorflow:From C:\\Users\\sejon\\Anaconda3\\lib\\site-packages\\keras\\backend\\tensorflow_backend.py:422: The name tf.global_variables is deprecated. Please use tf.compat.v1.global_variables instead.\n",
      "\n",
      "Train on 6149 samples, validate on 1538 samples\n",
      "Epoch 1/100\n",
      "6149/6149 [==============================] - 3s 481us/step - loss: 0.5795 - accuracy: 0.7195 - val_loss: 0.5117 - val_accuracy: 0.7633\n",
      "Epoch 2/100\n",
      "6149/6149 [==============================] - 1s 233us/step - loss: 0.4483 - accuracy: 0.7938 - val_loss: 0.4406 - val_accuracy: 0.7900\n",
      "Epoch 3/100\n",
      "6149/6149 [==============================] - 1s 227us/step - loss: 0.4197 - accuracy: 0.8024 - val_loss: 0.4519 - val_accuracy: 0.7627\n",
      "Epoch 4/100\n",
      "6149/6149 [==============================] - 1s 195us/step - loss: 0.4114 - accuracy: 0.8065 - val_loss: 0.4772 - val_accuracy: 0.7516\n",
      "Epoch 5/100\n",
      "6149/6149 [==============================] - 1s 149us/step - loss: 0.4046 - accuracy: 0.8073 - val_loss: 0.4584 - val_accuracy: 0.7581\n",
      "Epoch 6/100\n",
      "6149/6149 [==============================] - 1s 167us/step - loss: 0.3998 - accuracy: 0.8084 - val_loss: 0.4252 - val_accuracy: 0.8056\n",
      "Epoch 7/100\n",
      "6149/6149 [==============================] - 2s 249us/step - loss: 0.3965 - accuracy: 0.8130 - val_loss: 0.4311 - val_accuracy: 0.7776\n",
      "Epoch 8/100\n",
      "6149/6149 [==============================] - 1s 192us/step - loss: 0.3955 - accuracy: 0.8092 - val_loss: 0.4136 - val_accuracy: 0.8173\n",
      "Epoch 9/100\n",
      "6149/6149 [==============================] - 1s 243us/step - loss: 0.3933 - accuracy: 0.8115 - val_loss: 0.4461 - val_accuracy: 0.7757\n",
      "Epoch 10/100\n",
      "6149/6149 [==============================] - 1s 199us/step - loss: 0.3920 - accuracy: 0.8120 - val_loss: 0.4168 - val_accuracy: 0.8166\n",
      "Epoch 11/100\n",
      "6149/6149 [==============================] - 1s 232us/step - loss: 0.3929 - accuracy: 0.8110 - val_loss: 0.4075 - val_accuracy: 0.7984\n",
      "Epoch 12/100\n",
      "6149/6149 [==============================] - 2s 323us/step - loss: 0.3899 - accuracy: 0.8114 - val_loss: 0.4615 - val_accuracy: 0.7906\n",
      "Epoch 13/100\n",
      "6149/6149 [==============================] - 2s 305us/step - loss: 0.3913 - accuracy: 0.8086 - val_loss: 0.3985 - val_accuracy: 0.8095\n",
      "Epoch 14/100\n",
      "6149/6149 [==============================] - 1s 206us/step - loss: 0.3889 - accuracy: 0.8125 - val_loss: 0.4012 - val_accuracy: 0.8140\n",
      "Epoch 15/100\n",
      "6149/6149 [==============================] - 1s 227us/step - loss: 0.3883 - accuracy: 0.8115 - val_loss: 0.4123 - val_accuracy: 0.7900\n",
      "Epoch 16/100\n",
      "6149/6149 [==============================] - 1s 195us/step - loss: 0.3894 - accuracy: 0.8107 - val_loss: 0.3996 - val_accuracy: 0.8004\n",
      "Epoch 17/100\n",
      "6149/6149 [==============================] - 1s 214us/step - loss: 0.3884 - accuracy: 0.8133 - val_loss: 0.4085 - val_accuracy: 0.7867\n",
      "Epoch 18/100\n",
      "6149/6149 [==============================] - 1s 216us/step - loss: 0.3879 - accuracy: 0.8097 - val_loss: 0.3954 - val_accuracy: 0.8056\n",
      "Epoch 19/100\n",
      "6149/6149 [==============================] - 2s 246us/step - loss: 0.3862 - accuracy: 0.8104 - val_loss: 0.3968 - val_accuracy: 0.8004\n",
      "Epoch 20/100\n",
      "6149/6149 [==============================] - 3s 428us/step - loss: 0.3859 - accuracy: 0.8107 - val_loss: 0.3947 - val_accuracy: 0.8108\n",
      "Epoch 21/100\n",
      "6149/6149 [==============================] - 3s 437us/step - loss: 0.3872 - accuracy: 0.8130 - val_loss: 0.4158 - val_accuracy: 0.7809\n",
      "Epoch 22/100\n",
      "6149/6149 [==============================] - 3s 566us/step - loss: 0.3860 - accuracy: 0.8096 - val_loss: 0.4117 - val_accuracy: 0.8153\n",
      "Epoch 23/100\n",
      "6149/6149 [==============================] - 2s 336us/step - loss: 0.3837 - accuracy: 0.8148 - val_loss: 0.4883 - val_accuracy: 0.7802\n",
      "Epoch 24/100\n",
      "6149/6149 [==============================] - 2s 273us/step - loss: 0.3888 - accuracy: 0.8071 - val_loss: 0.3958 - val_accuracy: 0.8147\n",
      "Epoch 25/100\n",
      "6149/6149 [==============================] - 2s 283us/step - loss: 0.3843 - accuracy: 0.8109 - val_loss: 0.4017 - val_accuracy: 0.7932\n",
      "Epoch 26/100\n",
      "6149/6149 [==============================] - 1s 222us/step - loss: 0.3857 - accuracy: 0.8110 - val_loss: 0.3965 - val_accuracy: 0.8160\n",
      "Epoch 27/100\n",
      "6149/6149 [==============================] - 3s 526us/step - loss: 0.3840 - accuracy: 0.8146 - val_loss: 0.4258 - val_accuracy: 0.8036\n",
      "Epoch 28/100\n",
      "6149/6149 [==============================] - 2s 323us/step - loss: 0.3847 - accuracy: 0.8109 - val_loss: 0.4004 - val_accuracy: 0.7958\n",
      "Epoch 29/100\n",
      "6149/6149 [==============================] - 4s 574us/step - loss: 0.3835 - accuracy: 0.8143 - val_loss: 0.3971 - val_accuracy: 0.7991\n",
      "Epoch 30/100\n",
      "6149/6149 [==============================] - 2s 267us/step - loss: 0.3852 - accuracy: 0.8083 - val_loss: 0.4481 - val_accuracy: 0.7692\n",
      "Epoch 31/100\n",
      "6149/6149 [==============================] - 2s 255us/step - loss: 0.3842 - accuracy: 0.8128 - val_loss: 0.3953 - val_accuracy: 0.7997\n",
      "Epoch 32/100\n",
      "6149/6149 [==============================] - 2s 253us/step - loss: 0.3848 - accuracy: 0.8122 - val_loss: 0.3915 - val_accuracy: 0.8121\n",
      "Epoch 33/100\n",
      "6149/6149 [==============================] - 1s 227us/step - loss: 0.3843 - accuracy: 0.8097 - val_loss: 0.3923 - val_accuracy: 0.8075\n",
      "Epoch 34/100\n",
      "6149/6149 [==============================] - 1s 219us/step - loss: 0.3833 - accuracy: 0.8118 - val_loss: 0.3937 - val_accuracy: 0.8082\n",
      "Epoch 35/100\n",
      "6149/6149 [==============================] - 1s 195us/step - loss: 0.3835 - accuracy: 0.8084 - val_loss: 0.4171 - val_accuracy: 0.7828\n",
      "Epoch 36/100\n",
      "6149/6149 [==============================] - 1s 203us/step - loss: 0.3845 - accuracy: 0.8123 - val_loss: 0.4083 - val_accuracy: 0.7880\n",
      "Epoch 37/100\n",
      "6149/6149 [==============================] - 2s 265us/step - loss: 0.3831 - accuracy: 0.8117 - val_loss: 0.3956 - val_accuracy: 0.8010\n",
      "Epoch 38/100\n",
      "6149/6149 [==============================] - 5s 821us/step - loss: 0.3849 - accuracy: 0.8123 - val_loss: 0.3900 - val_accuracy: 0.8127\n",
      "Epoch 39/100\n",
      "6149/6149 [==============================] - 3s 462us/step - loss: 0.3831 - accuracy: 0.8102 - val_loss: 0.4211 - val_accuracy: 0.7776\n",
      "Epoch 40/100\n",
      "6149/6149 [==============================] - 2s 285us/step - loss: 0.3840 - accuracy: 0.8112 - val_loss: 0.3949 - val_accuracy: 0.8108\n",
      "Epoch 41/100\n",
      "6149/6149 [==============================] - 2s 271us/step - loss: 0.3833 - accuracy: 0.8123 - val_loss: 0.4004 - val_accuracy: 0.8153\n",
      "Epoch 42/100\n",
      "6149/6149 [==============================] - 2s 331us/step - loss: 0.3828 - accuracy: 0.8086 - val_loss: 0.4080 - val_accuracy: 0.8075\n",
      "Epoch 43/100\n",
      "6149/6149 [==============================] - 1s 233us/step - loss: 0.3825 - accuracy: 0.8102 - val_loss: 0.3910 - val_accuracy: 0.8134\n",
      "Epoch 44/100\n",
      "6149/6149 [==============================] - 3s 456us/step - loss: 0.3827 - accuracy: 0.8120 - val_loss: 0.4013 - val_accuracy: 0.7880\n",
      "Epoch 45/100\n",
      "6149/6149 [==============================] - 4s 685us/step - loss: 0.3818 - accuracy: 0.8114 - val_loss: 0.3956 - val_accuracy: 0.8069\n",
      "Epoch 46/100\n",
      "6149/6149 [==============================] - 3s 419us/step - loss: 0.3839 - accuracy: 0.8097 - val_loss: 0.3935 - val_accuracy: 0.8212\n",
      "Epoch 47/100\n",
      "6149/6149 [==============================] - 3s 427us/step - loss: 0.3818 - accuracy: 0.8156 - val_loss: 0.3930 - val_accuracy: 0.8114\n",
      "Epoch 48/100\n",
      "6149/6149 [==============================] - 2s 375us/step - loss: 0.3829 - accuracy: 0.8087 - val_loss: 0.3947 - val_accuracy: 0.8231\n",
      "Epoch 49/100\n",
      "6149/6149 [==============================] - 2s 345us/step - loss: 0.3823 - accuracy: 0.8141 - val_loss: 0.3951 - val_accuracy: 0.8166\n",
      "Epoch 50/100\n",
      "6149/6149 [==============================] - 4s 619us/step - loss: 0.3833 - accuracy: 0.8094 - val_loss: 0.3983 - val_accuracy: 0.7997\n",
      "Epoch 51/100\n",
      "6149/6149 [==============================] - 3s 516us/step - loss: 0.3815 - accuracy: 0.8125 - val_loss: 0.4040 - val_accuracy: 0.7965\n",
      "Epoch 52/100\n",
      "6149/6149 [==============================] - 3s 476us/step - loss: 0.3814 - accuracy: 0.8120 - val_loss: 0.3908 - val_accuracy: 0.8101\n",
      "Epoch 53/100\n",
      "6149/6149 [==============================] - 3s 472us/step - loss: 0.3805 - accuracy: 0.8136 - val_loss: 0.3942 - val_accuracy: 0.8192\n",
      "Epoch 54/100\n",
      "6149/6149 [==============================] - 3s 470us/step - loss: 0.3826 - accuracy: 0.8131 - val_loss: 0.3892 - val_accuracy: 0.8166\n"
     ]
    },
    {
     "name": "stdout",
     "output_type": "stream",
     "text": [
      "Epoch 55/100\n",
      "6149/6149 [==============================] - 1s 226us/step - loss: 0.3816 - accuracy: 0.8112 - val_loss: 0.3892 - val_accuracy: 0.8121\n",
      "Epoch 56/100\n",
      "6149/6149 [==============================] - 2s 403us/step - loss: 0.3789 - accuracy: 0.8117 - val_loss: 0.3989 - val_accuracy: 0.7939\n",
      "Epoch 57/100\n",
      "6149/6149 [==============================] - 2s 266us/step - loss: 0.3813 - accuracy: 0.8087 - val_loss: 0.3929 - val_accuracy: 0.8088\n",
      "Epoch 58/100\n",
      "6149/6149 [==============================] - 1s 219us/step - loss: 0.3813 - accuracy: 0.8123 - val_loss: 0.3974 - val_accuracy: 0.8049\n",
      "Epoch 59/100\n",
      "6149/6149 [==============================] - 1s 243us/step - loss: 0.3813 - accuracy: 0.8107 - val_loss: 0.3907 - val_accuracy: 0.8186\n",
      "Epoch 60/100\n",
      "6149/6149 [==============================] - 1s 236us/step - loss: 0.3809 - accuracy: 0.8125 - val_loss: 0.3921 - val_accuracy: 0.8186\n",
      "Epoch 61/100\n",
      "6149/6149 [==============================] - 2s 347us/step - loss: 0.3814 - accuracy: 0.8110 - val_loss: 0.4199 - val_accuracy: 0.7939\n",
      "Epoch 62/100\n",
      "6149/6149 [==============================] - 2s 336us/step - loss: 0.3818 - accuracy: 0.8131 - val_loss: 0.4105 - val_accuracy: 0.8069\n",
      "Epoch 63/100\n",
      "6149/6149 [==============================] - 2s 371us/step - loss: 0.3808 - accuracy: 0.8123 - val_loss: 0.4235 - val_accuracy: 0.7939\n",
      "Epoch 64/100\n",
      "6149/6149 [==============================] - 3s 446us/step - loss: 0.3817 - accuracy: 0.8104 - val_loss: 0.3980 - val_accuracy: 0.7932\n",
      "Epoch 65/100\n",
      "6149/6149 [==============================] - 2s 362us/step - loss: 0.3810 - accuracy: 0.8083 - val_loss: 0.4050 - val_accuracy: 0.7880\n",
      "Epoch 66/100\n",
      "6149/6149 [==============================] - 2s 329us/step - loss: 0.3801 - accuracy: 0.8125 - val_loss: 0.4042 - val_accuracy: 0.7893\n",
      "Epoch 67/100\n",
      "6149/6149 [==============================] - 3s 446us/step - loss: 0.3807 - accuracy: 0.8084 - val_loss: 0.3896 - val_accuracy: 0.8114\n",
      "Epoch 68/100\n",
      "6149/6149 [==============================] - 2s 248us/step - loss: 0.3816 - accuracy: 0.8102 - val_loss: 0.4092 - val_accuracy: 0.7887\n",
      "Epoch 69/100\n",
      "6149/6149 [==============================] - 2s 326us/step - loss: 0.3814 - accuracy: 0.8117 - val_loss: 0.3875 - val_accuracy: 0.8140\n",
      "Epoch 70/100\n",
      "6149/6149 [==============================] - 1s 208us/step - loss: 0.3815 - accuracy: 0.8076 - val_loss: 0.4118 - val_accuracy: 0.7854\n",
      "Epoch 71/100\n",
      "6149/6149 [==============================] - 1s 228us/step - loss: 0.3813 - accuracy: 0.8102 - val_loss: 0.3904 - val_accuracy: 0.8108\n",
      "Epoch 72/100\n",
      "6149/6149 [==============================] - 2s 253us/step - loss: 0.3802 - accuracy: 0.8079 - val_loss: 0.3951 - val_accuracy: 0.8121\n",
      "Epoch 73/100\n",
      "6149/6149 [==============================] - 2s 382us/step - loss: 0.3814 - accuracy: 0.8115 - val_loss: 0.3878 - val_accuracy: 0.8121\n",
      "Epoch 74/100\n",
      "6149/6149 [==============================] - 1s 207us/step - loss: 0.3806 - accuracy: 0.8102 - val_loss: 0.3975 - val_accuracy: 0.8069\n",
      "Epoch 75/100\n",
      "6149/6149 [==============================] - 1s 174us/step - loss: 0.3807 - accuracy: 0.8117 - val_loss: 0.3918 - val_accuracy: 0.8095\n",
      "Epoch 76/100\n",
      "6149/6149 [==============================] - 2s 315us/step - loss: 0.3800 - accuracy: 0.8141 - val_loss: 0.3888 - val_accuracy: 0.8147\n",
      "Epoch 77/100\n",
      "6149/6149 [==============================] - 1s 208us/step - loss: 0.3800 - accuracy: 0.8122 - val_loss: 0.4059 - val_accuracy: 0.8056\n",
      "Epoch 78/100\n",
      "6149/6149 [==============================] - 1s 235us/step - loss: 0.3809 - accuracy: 0.8110 - val_loss: 0.3939 - val_accuracy: 0.8023\n",
      "Epoch 79/100\n",
      "6149/6149 [==============================] - 2s 313us/step - loss: 0.3802 - accuracy: 0.8136 - val_loss: 0.3977 - val_accuracy: 0.8088\n",
      "Epoch 80/100\n",
      "6149/6149 [==============================] - 1s 192us/step - loss: 0.3795 - accuracy: 0.8127 - val_loss: 0.4145 - val_accuracy: 0.7926\n",
      "Epoch 81/100\n",
      "6149/6149 [==============================] - 1s 236us/step - loss: 0.3801 - accuracy: 0.8159 - val_loss: 0.4025 - val_accuracy: 0.8134\n",
      "Epoch 82/100\n",
      "6149/6149 [==============================] - 3s 456us/step - loss: 0.3800 - accuracy: 0.8114 - val_loss: 0.3880 - val_accuracy: 0.8153\n",
      "Epoch 83/100\n",
      "6149/6149 [==============================] - 2s 346us/step - loss: 0.3801 - accuracy: 0.8136 - val_loss: 0.3980 - val_accuracy: 0.8036\n",
      "Epoch 84/100\n",
      "6149/6149 [==============================] - 1s 229us/step - loss: 0.3804 - accuracy: 0.8110 - val_loss: 0.3952 - val_accuracy: 0.8121\n",
      "Epoch 85/100\n",
      "6149/6149 [==============================] - 1s 236us/step - loss: 0.3806 - accuracy: 0.8118 - val_loss: 0.3922 - val_accuracy: 0.8056\n",
      "Epoch 86/100\n",
      "6149/6149 [==============================] - 1s 223us/step - loss: 0.3797 - accuracy: 0.8123 - val_loss: 0.3922 - val_accuracy: 0.8179\n",
      "Epoch 87/100\n",
      "6149/6149 [==============================] - 1s 229us/step - loss: 0.3799 - accuracy: 0.8094 - val_loss: 0.3933 - val_accuracy: 0.8043\n",
      "Epoch 88/100\n",
      "6149/6149 [==============================] - 2s 258us/step - loss: 0.3793 - accuracy: 0.8099 - val_loss: 0.3938 - val_accuracy: 0.8056\n",
      "Epoch 89/100\n",
      "6149/6149 [==============================] - 2s 310us/step - loss: 0.3801 - accuracy: 0.8097 - val_loss: 0.4179 - val_accuracy: 0.7893\n",
      "Epoch 90/100\n",
      "6149/6149 [==============================] - 2s 320us/step - loss: 0.3813 - accuracy: 0.8122 - val_loss: 0.3908 - val_accuracy: 0.8179\n",
      "Epoch 91/100\n",
      "5248/6149 [========================>.....] - ETA: 0s - loss: 0.3828 - accuracy: 0.8155"
     ]
    }
   ],
   "source": [
    "hist = model.fit(X_train, y_train, validation_data=(X_test, y_test), epochs=100)"
   ]
  },
  {
   "cell_type": "code",
   "execution_count": null,
   "metadata": {},
   "outputs": [],
   "source": [
    "import matplotlib.pyplot as plt\n",
    "\n",
    "history_dict = hist.history\n",
    "loss = history_dict['loss']\n",
    "val_loss = history_dict['val_loss']\n",
    "accuracy = history_dict['accuracy']\n",
    "val_accuracy = history_dict['val_accuracy']\n",
    "\n",
    "epochs = range(1, len(loss) + 1)\n",
    "\n",
    "plt.plot(epochs, loss, 'bo', label='Training loss')  # ‘bo’는 파란색 점\n",
    "plt.plot(epochs, val_loss, 'b', label='Validation loss') # ‘b’는 파란색 실선\n",
    "plt.title('Training and validation loss')\n",
    "plt.xlabel('Epochs')\n",
    "plt.ylabel('Loss')\n",
    "plt.legend()\n",
    "\n",
    "plt.show()"
   ]
  },
  {
   "cell_type": "code",
   "execution_count": null,
   "metadata": {},
   "outputs": [],
   "source": [
    "plt.plot(epochs, accuracy, 'ro', label='Accraucy')\n",
    "plt.plot(epochs, val_accuracy, 'r', label='Validation Accuracy')\n",
    "plt.title('Training and Accuracy')\n",
    "plt.xlabel('Epochs')\n",
    "plt.ylabel('Accuracy')\n",
    "plt.legend()\n",
    "\n",
    "plt.show()"
   ]
  },
  {
   "cell_type": "code",
   "execution_count": null,
   "metadata": {},
   "outputs": [],
   "source": [
    "from sklearn.externals import joblib\n",
    "joblib.dump(hist,'classification_model')"
   ]
  },
  {
   "cell_type": "code",
   "execution_count": null,
   "metadata": {},
   "outputs": [],
   "source": [
    "from keras.models import load_model\n",
    "model = load_model('classification_model')"
   ]
  }
 ],
 "metadata": {
  "kernelspec": {
   "display_name": "Python 3",
   "language": "python",
   "name": "python3"
  },
  "language_info": {
   "codemirror_mode": {
    "name": "ipython",
    "version": 3
   },
   "file_extension": ".py",
   "mimetype": "text/x-python",
   "name": "python",
   "nbconvert_exporter": "python",
   "pygments_lexer": "ipython3",
   "version": "3.7.6"
  }
 },
 "nbformat": 4,
 "nbformat_minor": 2
}
